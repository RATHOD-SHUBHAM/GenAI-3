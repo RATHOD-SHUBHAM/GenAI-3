{
 "cells": [
  {
   "cell_type": "code",
   "execution_count": 37,
   "id": "90a206bc-c694-47a0-9be6-65f3dc72f447",
   "metadata": {},
   "outputs": [],
   "source": [
    "!pip install -qU langchain langchain_community langchain_chroma langchainhub pypdf langchain-ollama langchain-text-splitters"
   ]
  },
  {
   "cell_type": "code",
   "execution_count": 1,
   "id": "b8981609-491d-420d-ba79-3fa2bca37a16",
   "metadata": {},
   "outputs": [
    {
     "name": "stdout",
     "output_type": "stream",
     "text": [
      "/Users/shubhamrathod/PycharmProjects/RAG_Pipeline/RAG_Chain\n",
      "/Users/shubhamrathod/PycharmProjects/RAG_Pipeline\n"
     ]
    }
   ],
   "source": [
    "import os\n",
    "HOME = os.getcwd()\n",
    "print(HOME)\n",
    "\n",
    "ROOT = os.path.dirname(HOME)\n",
    "print(ROOT)"
   ]
  },
  {
   "cell_type": "markdown",
   "id": "17b84630-7b78-4ac2-bc9b-669d0a9a28d4",
   "metadata": {},
   "source": [
    "# Load the Document"
   ]
  },
  {
   "cell_type": "code",
   "execution_count": 2,
   "id": "98227cb2-7f38-4595-ae47-ef51aa806040",
   "metadata": {},
   "outputs": [],
   "source": [
    "from langchain_community.document_loaders import PyPDFLoader\n",
    "\n",
    "file_path = f'{HOME}/CC.pdf'\n",
    "loader = PyPDFLoader(file_path = file_path)\n",
    "\n",
    "pages = loader.load()"
   ]
  },
  {
   "cell_type": "code",
   "execution_count": 3,
   "id": "fbbfe688-c5b0-4265-bca2-126feb77faf8",
   "metadata": {},
   "outputs": [
    {
     "data": {
      "text/plain": [
       "5"
      ]
     },
     "execution_count": 3,
     "metadata": {},
     "output_type": "execute_result"
    }
   ],
   "source": [
    "len(pages)"
   ]
  },
  {
   "cell_type": "code",
   "execution_count": null,
   "id": "48d5a133-1a54-4a6c-90dc-4122b1ab08de",
   "metadata": {},
   "outputs": [],
   "source": []
  },
  {
   "cell_type": "markdown",
   "id": "3385ea6f-3bb1-4d46-b44d-e7828cb81f7a",
   "metadata": {},
   "source": [
    "# Split the Document"
   ]
  },
  {
   "cell_type": "code",
   "execution_count": 4,
   "id": "2e3eb4db-de60-4d3a-8252-c4ba79eceb6b",
   "metadata": {},
   "outputs": [],
   "source": [
    "from langchain_text_splitters import RecursiveCharacterTextSplitter"
   ]
  },
  {
   "cell_type": "code",
   "execution_count": 5,
   "id": "ee355765-3edd-4392-bdd6-cc000e407115",
   "metadata": {},
   "outputs": [],
   "source": [
    "text_splitter = RecursiveCharacterTextSplitter(\n",
    "    # Set a really small chunk size, just to show.\n",
    "    chunk_size=8000,\n",
    "    chunk_overlap=3000,\n",
    "    length_function=len,\n",
    "    is_separator_regex=False,\n",
    ")"
   ]
  },
  {
   "cell_type": "code",
   "execution_count": 6,
   "id": "f701e97e-0659-49be-a9a0-1b0ce47dab10",
   "metadata": {},
   "outputs": [],
   "source": [
    "docs = text_splitter.split_documents(pages)"
   ]
  },
  {
   "cell_type": "code",
   "execution_count": 7,
   "id": "32515a1c-120e-4c53-877f-c127ac8073da",
   "metadata": {},
   "outputs": [
    {
     "data": {
      "text/plain": [
       "5"
      ]
     },
     "execution_count": 7,
     "metadata": {},
     "output_type": "execute_result"
    }
   ],
   "source": [
    "len(docs)"
   ]
  },
  {
   "cell_type": "code",
   "execution_count": null,
   "id": "13a9d2f5-ab95-4abe-9f56-e7b4155f8ed9",
   "metadata": {},
   "outputs": [],
   "source": []
  },
  {
   "cell_type": "markdown",
   "id": "87e447d9-44b4-4f8e-b757-da70344fae6c",
   "metadata": {},
   "source": [
    "# Embedding Model"
   ]
  },
  {
   "cell_type": "code",
   "execution_count": 8,
   "id": "1f6d119f-7a23-4581-9708-a890deb890e4",
   "metadata": {},
   "outputs": [],
   "source": [
    "from langchain_ollama import OllamaEmbeddings\n",
    "\n",
    "embeddings = OllamaEmbeddings(model=\"mxbai-embed-large:latest\")"
   ]
  },
  {
   "cell_type": "code",
   "execution_count": null,
   "id": "35ca626c-8c3f-4082-949b-eb0a6e7843d0",
   "metadata": {},
   "outputs": [],
   "source": []
  },
  {
   "cell_type": "markdown",
   "id": "b600b0a8-381e-404c-b1a0-8b93dd4ada79",
   "metadata": {},
   "source": [
    "# Create Index"
   ]
  },
  {
   "cell_type": "code",
   "execution_count": 9,
   "id": "9cdcde9e-7766-4dae-8bfc-96d7bcd408cb",
   "metadata": {},
   "outputs": [],
   "source": [
    "from langchain_chroma import Chroma"
   ]
  },
  {
   "cell_type": "code",
   "execution_count": 10,
   "id": "c87789d4-c0c2-419d-a3f6-384a352cd99d",
   "metadata": {},
   "outputs": [],
   "source": [
    "persist_directory = f'{HOME}/chroma_db'\n",
    "\n",
    "if os.path.isdir(persist_directory):\n",
    "    # Load from disk\n",
    "    index = Chroma(persist_directory = persist_directory, embedding_function = embeddings)\n",
    "else:\n",
    "    # Save to disk    \n",
    "    index = Chroma.from_documents(documents = docs, embedding = embeddings, persist_directory = persist_directory)"
   ]
  },
  {
   "cell_type": "code",
   "execution_count": 11,
   "id": "d1be2ecb-3028-45d4-8892-2aad2a5022c1",
   "metadata": {},
   "outputs": [
    {
     "name": "stdout",
     "output_type": "stream",
     "text": [
      "[Document(metadata={'page': 2, 'source': '/Users/shubhamrathod/PycharmProjects/RAG_Pipeline/RAG_Chain/CC.pdf'}, page_content='Sample Call Center Script: Technical Support Hotline  \\nEmily  \\nGood afternoon. TBH Network Solutions.  \\nFred  \\nYeah, hi. My system is down and I need \\nto speak with a technician.  \\nEmily  \\nOh, okay. Let me gather some \\ninformation and see if we can help. What \\nis your first name?  \\nFred  \\nFred.  \\nEmily  \\n And your last nam e; would you spell it \\nfor me please? Fred Sure. It’s C -H-A-M-B-\\nE-R-S, Chambers.  \\nEmily  \\nOkay. And your company name?  \\nFred  \\nI’m with GoldStar Environmental.  \\nEmily  \\nGoldStar Environmental?  \\nFred  \\nYes ma’am.  \\nEmily  \\nOkay. And your callback number?  \\nFred  \\n610-265-1715.  \\nEmily  \\nThat’s 610 -265-1715?  \\nFred  \\nYes.  \\nEmily  \\nOkay. And what seems to be the problem \\ntoday?  Fred  \\nMy agents aren’t able to make or receive \\nany telephone calls.  \\nEmily  \\nOkay and what type of system do you \\nhave. Fred I have AmStar700, I think. \\nEmily Okay. Are you able to log on to the \\nsystem?  \\nFred  \\nNo, actually, I can’t even get an Internet \\nconnection.  \\nEmily  \\nOkay. According to my records, the \\nAmStar700 is a voiceover Internet \\nprotocol phone. It appears that because \\nyour Internet isn’t working,  your phones \\nare not working as well. Do you know \\nwho your Internet provider is?  \\nFred  \\nI have Verizon.  \\nEmily  \\nOkay. Mr. Chambers, I’m going to get a \\nhold of Randy, and have him return your \\ncall. Is the 610 -265-1715 a good number \\nto reach you at right now ? \\n Fred  \\nYeah that’s my cell. That is working.  \\nEmily  \\nOkay, great. In the meantime, see if you \\ncan reach out to Verizon and let them \\nknow your issue. And Randy should be \\ncalling you back shortly.  \\nFred  \\n Thank you very much for your help.  \\nEmily  \\nYou’re we lcome. Thank you. Goodbye. \\nFred Take care. Goodbye.'), Document(metadata={'page': 3, 'source': '/Users/shubhamrathod/PycharmProjects/RAG_Pipeline/RAG_Chain/CC.pdf'}, page_content='A SALES CALL  \\n \\nAgent:  am I speaking with Mr. Rohan Sharma.   \\n \\nCustomer:  yes or no.  \\nThen we have to ask may I know whom I am speaking with?  \\n \\nAgent:  good morning sir! I am Anusha  calling from Reliance Infocomm. Our \\ncompany has launched a very attractive calling card. Can I just take 5 minutes of \\nyour precious time to explain it to you?  \\n \\nCustomer:  ok. Go ahead.  \\n \\nAgent:  Thanks you sir, As  I was telling you about the calling card which comes \\nwith free reliance to reliance calling 24 hrs. And other local calls cost you just 45 \\npaise per minute. All STD calls are fixed at rs 1 per minute. And all this come s for \\njust rs 250 a month. This is n ot all sir. We have a scheme running if you buy the \\ncard today itself then yuou would be getting an add on card absolutely free.   \\n \\nCustomer:  are you sure all local calls are for 45 paisa only?  \\n \\nAgent:  yes Sir I m 100% sure.  \\n \\nCustomer:  But I already have two connections. What is the use of third one.  \\n \\nAgent:  sir, now a days people keep 4 -5 Sims and according to there usage and \\nbenefits they keep on switching to other Sims. And this sim is also very cheap and \\ncall rates are very less. Yo u are getting the best deal sir.   \\n \\nCustomer:  ok. What do I have to do?  \\n \\nAgent:  sir you just have to give a copy of ration card or your driving license. Or \\npan card. And two photos of yours.  \\n \\nCustomer:  ok I have all these things ready.  \\n \\nAgent:  Thank you sir . Our agent will come to your place tomorrow and collect all \\nthe documents from and deliver the sim to you. May I know the convenient time \\nwhen you would be Available?  \\n \\nCustomer:  Ok, send your executive at 11 am tomorrow.  \\n \\nAgent:  Ok, sir. Thank you very mu ch. Have a nice day.  \\n \\nCustomer:  You’re welcome. You too have a nice day. Bye.  \\n \\nAgent:  bye.'), Document(metadata={'page': 1, 'source': '/Users/shubhamrathod/PycharmProjects/RAG_Pipeline/RAG_Chain/CC.pdf'}, page_content='CALL CENTER CONVERSERTION SCRIPT 2a  \\n \\nAgent:           Thank you for calling ABC Company. My name is Ashley. How may I  \\nhelp you today?  \\nCustomer:     I am calling because I received a wrong bill. I just paid my phone bill \\ntwo days ago and my                    payment is not reflected in the bill.  \\nAgent:            Sorry for the inconvenience madam. May I have your Account  \\nNumber, please.  \\nCustomer:     5340036548  \\nAgent:            For verification purposes mam, Can I get your name and birthdate?, \\nplease.  \\nCustomer:     5340036548  \\nAgent:            For verification purposes mam, Can I get your name and birthdate?  \\nCustomer:     Maegan Simpson, July 23, 1974 and the account is under my name.  \\nAgent:            Thank you for that information mam. Per our system’s data, you did \\npay your last bill last Aug. 12 which was two days ago in one of our \\naffiliated payment centers and you c urrently have 0 balance. However, \\nthe bill that you received was generated a week before you made the \\npayment that’s why your latest payment had not been reflected. You can \\nsimply disregard the amount indicated  in the bill and continue enjoying \\nour servic es. \\nCustomer:     Thank you.  \\nAgent:           Delays in the bill is usually caused by delays in our courier services. \\nFor a more up dated bill of your account, you can visit our website and \\nlog in to your account. This bill is more updated.  \\nCustomer:     O k I will.  \\nAgent:            Will there be anything else that you need madam?  \\nCustomer:     No thanks.  \\nAgent:     Thank you for calling. We are glad to assist you.  \\nCustomer: Ok bye.'), Document(metadata={'page': 4, 'source': '/Users/shubhamrathod/PycharmProjects/RAG_Pipeline/RAG_Chain/CC.pdf'}, page_content='http://www.academia.edu/4213494/CALL_CENTER_CONVERSERTION_SCRIPT_2a')]\n"
     ]
    }
   ],
   "source": [
    "docs = index.similarity_search('Who is emily')\n",
    "print(docs)"
   ]
  },
  {
   "cell_type": "code",
   "execution_count": null,
   "id": "ee0cfd64-4458-4f1f-86aa-c421dd0d5780",
   "metadata": {},
   "outputs": [],
   "source": []
  },
  {
   "cell_type": "markdown",
   "id": "a6146330-608b-4d60-b494-a29e875f4802",
   "metadata": {},
   "source": [
    "# Create Retriever"
   ]
  },
  {
   "cell_type": "code",
   "execution_count": 12,
   "id": "0bb327b9-3b9c-4378-94dc-7991742b0a37",
   "metadata": {},
   "outputs": [],
   "source": [
    "retriever = index.as_retriever()"
   ]
  },
  {
   "cell_type": "code",
   "execution_count": null,
   "id": "d7c18af7-d158-4bd0-8470-ee90eb07eb34",
   "metadata": {},
   "outputs": [],
   "source": []
  },
  {
   "cell_type": "markdown",
   "id": "130e71fc-8305-4605-84f6-a08a617056af",
   "metadata": {},
   "source": [
    "# Prompt Template"
   ]
  },
  {
   "cell_type": "code",
   "execution_count": 13,
   "id": "d9c2eb03-3b10-44a8-9211-fc500dedd624",
   "metadata": {},
   "outputs": [],
   "source": [
    "from langchain_core.prompts import PromptTemplate\n",
    "from langchain_core.output_parsers import StrOutputParser\n",
    "from langchain_core.runnables import RunnablePassthrough"
   ]
  },
  {
   "cell_type": "code",
   "execution_count": 14,
   "id": "a6333ed1-3119-4c88-b913-d3853b3d7a18",
   "metadata": {},
   "outputs": [],
   "source": [
    "template = \"\"\"\n",
    "\n",
    "    You are an assistant for question-answering tasks. Use the following pieces of retrieved context to answer the question. If you don't know the answer, just say that you don't know. Use three sentences maximum and keep the answer concise.\n",
    "\n",
    "    Question: {question} \n",
    "    \n",
    "    Context: {context} \n",
    "    \n",
    "    Answer:\n",
    "\n",
    "\"\"\""
   ]
  },
  {
   "cell_type": "code",
   "execution_count": 15,
   "id": "e787253f-eab0-4cff-9c55-9f9b38ac6963",
   "metadata": {},
   "outputs": [],
   "source": [
    "custom_rag_prompt = PromptTemplate.from_template(template)"
   ]
  },
  {
   "cell_type": "markdown",
   "id": "e00a1d31-85a7-4d6b-9d1b-9eeba0451696",
   "metadata": {},
   "source": [
    "# Chain"
   ]
  },
  {
   "cell_type": "code",
   "execution_count": 17,
   "id": "bc2942a2-20a2-4d5f-850f-ff6cdeba7ba4",
   "metadata": {},
   "outputs": [],
   "source": [
    "def format_docs(pages):\n",
    "    return \"\\n\\n\".join(page.page_content for page in pages)"
   ]
  },
  {
   "cell_type": "code",
   "execution_count": 18,
   "id": "7f8abd0b-adb4-4dd6-970c-6597e76e2b5e",
   "metadata": {},
   "outputs": [],
   "source": [
    "from langchain_ollama import ChatOllama\n",
    "\n",
    "llm = ChatOllama(\n",
    "    model=\"mistral-nemo:latest\",\n",
    "    temperature=0,\n",
    ")"
   ]
  },
  {
   "cell_type": "code",
   "execution_count": 19,
   "id": "55cb1348-2af1-4575-beba-7358876370fc",
   "metadata": {},
   "outputs": [],
   "source": [
    "rag_chain = (\n",
    "    {\n",
    "        \"context\" : retriever | format_docs,\n",
    "        \"question\": RunnablePassthrough()\n",
    "    }\n",
    "    |custom_rag_prompt\n",
    "    |llm\n",
    "    |StrOutputParser()\n",
    ")"
   ]
  },
  {
   "cell_type": "code",
   "execution_count": 20,
   "id": "6f35fbb7-7133-462c-b265-4e8c84f4fa9d",
   "metadata": {},
   "outputs": [],
   "source": [
    "result = rag_chain.invoke(\"Which Bank did Tracy go to?\")"
   ]
  },
  {
   "cell_type": "code",
   "execution_count": 21,
   "id": "424f148e-0db9-498f-9f2c-691393a020d7",
   "metadata": {},
   "outputs": [
    {
     "name": "stdout",
     "output_type": "stream",
     "text": [
      "Tracy went to Bank of Wealth.\n"
     ]
    }
   ],
   "source": [
    "print(result)"
   ]
  },
  {
   "cell_type": "code",
   "execution_count": 22,
   "id": "3ca472e4-0a64-41b1-a0e5-529f1971918d",
   "metadata": {},
   "outputs": [
    {
     "name": "stdout",
     "output_type": "stream",
     "text": [
      "Tracy Q. Randall's account number is 805-7845-3895-061.\n"
     ]
    }
   ],
   "source": [
    "query = \"What is  Tracy Q. Randall account number?\"\n",
    "result = rag_chain.invoke(query)\n",
    "print(result)"
   ]
  },
  {
   "cell_type": "code",
   "execution_count": 27,
   "id": "2b751f61-cc8f-4fee-a793-65a731654e74",
   "metadata": {},
   "outputs": [
    {
     "name": "stdout",
     "output_type": "stream",
     "text": [
      "John Perez did not order from Pizza Loco.\n"
     ]
    }
   ],
   "source": [
    "query = \"What did John Perez order from Pizza Loco?\"\n",
    "result = rag_chain.invoke(query)\n",
    "print(result)"
   ]
  },
  {
   "cell_type": "code",
   "execution_count": 25,
   "id": "307aa641-1ed8-4a57-a064-6d650e47dfc8",
   "metadata": {},
   "outputs": [
    {
     "name": "stdout",
     "output_type": "stream",
     "text": [
      "Maegan Simpson's account number is 5340036548.\n"
     ]
    }
   ],
   "source": [
    "query = \"What is  Maegan Simpson account number?\"\n",
    "result = rag_chain.invoke(query)\n",
    "print(result)"
   ]
  },
  {
   "cell_type": "code",
   "execution_count": 26,
   "id": "7740408a-6512-4fec-b2da-580360dd39a3",
   "metadata": {},
   "outputs": [
    {
     "name": "stdout",
     "output_type": "stream",
     "text": [
      "To switch sim cards, Rohan Sharma should contact Reliance Infocomm to request a new sim card. He will need to provide a copy of his ration card or driving license and two photos of himself. An agent will visit him at his convenience (he mentioned 11 am tomorrow) to collect the documents and deliver the new sim card.\n"
     ]
    }
   ],
   "source": [
    "query = \"What should Rohan Sharma do to switch sim card?\"\n",
    "result = rag_chain.invoke(query)\n",
    "print(result)"
   ]
  },
  {
   "cell_type": "code",
   "execution_count": null,
   "id": "ced63026-6d5a-4c70-b407-1139e0eb4527",
   "metadata": {},
   "outputs": [],
   "source": []
  }
 ],
 "metadata": {
  "kernelspec": {
   "display_name": "myrag",
   "language": "python",
   "name": "myrag"
  },
  "language_info": {
   "codemirror_mode": {
    "name": "ipython",
    "version": 3
   },
   "file_extension": ".py",
   "mimetype": "text/x-python",
   "name": "python",
   "nbconvert_exporter": "python",
   "pygments_lexer": "ipython3",
   "version": "3.10.14"
  }
 },
 "nbformat": 4,
 "nbformat_minor": 5
}
