{
 "cells": [
  {
   "cell_type": "code",
   "execution_count": 75,
   "id": "e97cb481-063a-43a3-85b7-dbec4644b394",
   "metadata": {},
   "outputs": [],
   "source": [
    "!pip install --quiet langchain langchain_openai langchain_chroma langchain-community langchainhub"
   ]
  },
  {
   "cell_type": "code",
   "execution_count": null,
   "id": "cb9e42ef-f815-4b3c-8821-c5ab512b650a",
   "metadata": {},
   "outputs": [],
   "source": []
  },
  {
   "cell_type": "code",
   "execution_count": 9,
   "id": "c15b78ca-3478-43ac-86be-7a4402b1f7db",
   "metadata": {},
   "outputs": [
    {
     "name": "stdout",
     "output_type": "stream",
     "text": [
      "0.00s - Debugger warning: It seems that frozen modules are being used, which may\n",
      "0.00s - make the debugger miss breakpoints. Please pass -Xfrozen_modules=off\n",
      "0.00s - to python to disable frozen modules.\n",
      "0.00s - Note: Debugging will proceed. Set PYDEVD_DISABLE_FILE_VALIDATION=1 to disable this validation.\n",
      "Available kernels:\n",
      "  venv       /Users/shubhamrathod/Library/Jupyter/kernels/venv\n",
      "  python3    /Users/shubhamrathod/.local/share/jupyter/kernels/python3\n"
     ]
    }
   ],
   "source": [
    "!jupyter kernelspec list"
   ]
  },
  {
   "cell_type": "code",
   "execution_count": null,
   "id": "468b9b04-ca5b-441b-8d88-f909fe92d35f",
   "metadata": {},
   "outputs": [],
   "source": []
  },
  {
   "cell_type": "code",
   "execution_count": 18,
   "id": "036724c7-b3e8-4209-a87e-287b66f06928",
   "metadata": {},
   "outputs": [],
   "source": [
    "import time"
   ]
  },
  {
   "cell_type": "markdown",
   "id": "38cc4a3c-7195-4e9f-af48-8cd41f770b13",
   "metadata": {},
   "source": [
    "### Check if Model is working"
   ]
  },
  {
   "cell_type": "code",
   "execution_count": 26,
   "id": "ba97e2df-3fbc-4bd0-9075-4176fb13e8f2",
   "metadata": {},
   "outputs": [
    {
     "name": "stdout",
     "output_type": "stream",
     "text": [
      "It took 5.512098789215088 seconds!\n"
     ]
    }
   ],
   "source": [
    "from langchain_community.llms import Ollama\n",
    "\n",
    "start = time.time()\n",
    "\n",
    "llm = Ollama(\n",
    "    model=\"llama3\"\n",
    ")\n",
    "\n",
    "llm.invoke(\"Tell me a joke\")\n",
    "\n",
    "# Calculate the end time and time taken\n",
    "end = time.time()\n",
    "length = end - start\n",
    "\n",
    "# Show the results : this can be altered however you like\n",
    "print(\"It took\", length, \"seconds!\")\n"
   ]
  },
  {
   "cell_type": "code",
   "execution_count": null,
   "id": "b46b53ae-0feb-47df-a9c5-3db880307629",
   "metadata": {},
   "outputs": [],
   "source": []
  },
  {
   "cell_type": "markdown",
   "id": "69f8b8e1-24f3-40f3-912f-854f014925f8",
   "metadata": {},
   "source": [
    "# RAG with Llama-3"
   ]
  },
  {
   "cell_type": "code",
   "execution_count": 28,
   "id": "0190d34d-a4f6-4972-bee8-74c6fbd30fbe",
   "metadata": {},
   "outputs": [],
   "source": [
    "llm = Ollama(\n",
    "    model = 'llama3',\n",
    "    temperature=0\n",
    ")"
   ]
  },
  {
   "cell_type": "markdown",
   "id": "51ffcbb4-9977-4396-96b4-677bdbb9c5c2",
   "metadata": {},
   "source": [
    "### Import Libraries"
   ]
  },
  {
   "cell_type": "code",
   "execution_count": 34,
   "id": "b2f4839d-add2-4517-b322-bf94fdc1222c",
   "metadata": {},
   "outputs": [],
   "source": [
    "import bs4\n",
    "from langchain import hub\n",
    "from langchain_chroma import Chroma\n",
    "from langchain_community.document_loaders import WebBaseLoader\n",
    "from langchain_core.output_parsers import StrOutputParser\n",
    "from langchain_core.runnables import RunnablePassthrough\n",
    "from langchain_openai import OpenAIEmbeddings\n",
    "from langchain_text_splitters import RecursiveCharacterTextSplitter"
   ]
  },
  {
   "cell_type": "markdown",
   "id": "3d8ef0b1-5840-4b91-9699-7b7be5a28bbd",
   "metadata": {},
   "source": [
    "### Scrape the data."
   ]
  },
  {
   "cell_type": "code",
   "execution_count": 40,
   "id": "da200c6c-cc1c-469b-87e0-6d789e064fff",
   "metadata": {},
   "outputs": [],
   "source": [
    "# Load, chunk and index the contents of the blog.\n",
    "loader = WebBaseLoader(\n",
    "    web_paths=(\"https://lilianweng.github.io/posts/2023-06-23-agent/\",),\n",
    "    bs_kwargs=dict(\n",
    "        parse_only=bs4.SoupStrainer(\n",
    "            class_=(\"post-content\", \"post-title\", \"post-header\")\n",
    "        )\n",
    "    ),\n",
    ")\n",
    "\n",
    "docs = loader.load()"
   ]
  },
  {
   "cell_type": "code",
   "execution_count": 44,
   "id": "60e0c7ba-d329-4edf-8410-84a2e49a7fb0",
   "metadata": {},
   "outputs": [],
   "source": [
    "# docs"
   ]
  },
  {
   "cell_type": "markdown",
   "id": "7661b899-ff31-4dca-92d0-a4a485641357",
   "metadata": {},
   "source": [
    "### Chunk Data."
   ]
  },
  {
   "cell_type": "code",
   "execution_count": 47,
   "id": "047850f5-f00d-4afa-80d5-d170372d7707",
   "metadata": {},
   "outputs": [],
   "source": [
    "text_splitter = RecursiveCharacterTextSplitter(chunk_size=1000, \n",
    "                                               chunk_overlap=200)\n",
    "\n",
    "splits = text_splitter.split_documents(docs)"
   ]
  },
  {
   "cell_type": "code",
   "execution_count": 53,
   "id": "60ccf073-5b6b-4d3b-9ea6-8d5251ded0b6",
   "metadata": {},
   "outputs": [
    {
     "data": {
      "text/plain": [
       "66"
      ]
     },
     "execution_count": 53,
     "metadata": {},
     "output_type": "execute_result"
    }
   ],
   "source": [
    "# splits\n",
    "len(splits)"
   ]
  },
  {
   "cell_type": "markdown",
   "id": "fd8de00c-4c6b-41ba-85d1-d960989c2563",
   "metadata": {},
   "source": [
    "### Create Embeddings."
   ]
  },
  {
   "cell_type": "code",
   "execution_count": 64,
   "id": "1e0c2737-314a-4b02-ba3a-41d2029ecd21",
   "metadata": {},
   "outputs": [],
   "source": [
    "embedding = OpenAIEmbeddings(openai_api_key = '')"
   ]
  },
  {
   "cell_type": "markdown",
   "id": "25540fab-1746-415d-a322-f7fe3adfc6f4",
   "metadata": {},
   "source": [
    "### Store embeddings in vector store."
   ]
  },
  {
   "cell_type": "code",
   "execution_count": 67,
   "id": "94a5caf7-4043-4d99-9f15-ef228ca36699",
   "metadata": {},
   "outputs": [],
   "source": [
    "vectorstore = Chroma.from_documents(documents=splits, embedding=embedding)"
   ]
  },
  {
   "cell_type": "markdown",
   "id": "19530653-3222-4195-a971-9d2017feda4c",
   "metadata": {},
   "source": [
    "### Create a Retriever"
   ]
  },
  {
   "cell_type": "code",
   "execution_count": 70,
   "id": "8538ecc5-1d7a-4e39-9a1b-c17ab962f427",
   "metadata": {},
   "outputs": [],
   "source": [
    "# Retrieve\n",
    "retriever = vectorstore.as_retriever()"
   ]
  },
  {
   "cell_type": "markdown",
   "id": "bd333226-99f1-4136-b30c-1ac1510bd4a4",
   "metadata": {},
   "source": [
    "### Call LLM"
   ]
  },
  {
   "cell_type": "code",
   "execution_count": 77,
   "id": "695bc956-1659-4f59-97b3-572cc27f4e3d",
   "metadata": {},
   "outputs": [],
   "source": [
    "prompt = hub.pull(\"rlm/rag-prompt\")\n",
    "\n",
    "\n",
    "def format_docs(docs):\n",
    "    return \"\\n\\n\".join(doc.page_content for doc in docs)\n",
    "\n",
    "\n",
    "rag_chain = (\n",
    "    {\"context\": retriever | format_docs, \"question\": RunnablePassthrough()}\n",
    "    | prompt\n",
    "    | llm\n",
    "    | StrOutputParser()\n",
    ")"
   ]
  },
  {
   "cell_type": "code",
   "execution_count": 79,
   "id": "4404bc66-d5b5-4589-9da6-7942e5e157c8",
   "metadata": {},
   "outputs": [
    {
     "name": "stdout",
     "output_type": "stream",
     "text": [
      "It took 13.361364126205444 seconds!\n"
     ]
    }
   ],
   "source": [
    "start = time.time()\n",
    "\n",
    "rag_chain.invoke(\"What is Task Decomposition?\")\n",
    "\n",
    "# Calculate the end time and time taken\n",
    "end = time.time()\n",
    "length = end - start\n",
    "\n",
    "# Show the results : this can be altered however you like\n",
    "print(\"It took\", length, \"seconds!\")\n"
   ]
  },
  {
   "cell_type": "code",
   "execution_count": null,
   "id": "ad4d59ba-10d4-4252-81dd-9ce118d66dd0",
   "metadata": {},
   "outputs": [],
   "source": []
  }
 ],
 "metadata": {
  "kernelspec": {
   "display_name": "venv",
   "language": "python",
   "name": "venv"
  },
  "language_info": {
   "codemirror_mode": {
    "name": "ipython",
    "version": 3
   },
   "file_extension": ".py",
   "mimetype": "text/x-python",
   "name": "python",
   "nbconvert_exporter": "python",
   "pygments_lexer": "ipython3",
   "version": "3.11.7"
  }
 },
 "nbformat": 4,
 "nbformat_minor": 5
}
