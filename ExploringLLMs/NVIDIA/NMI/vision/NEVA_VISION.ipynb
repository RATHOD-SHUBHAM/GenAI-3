{
 "cells": [
  {
   "cell_type": "code",
   "execution_count": 42,
   "id": "07236a35-7abd-4688-ad5c-9ea20949c435",
   "metadata": {},
   "outputs": [],
   "source": [
    "# Instead of !pip, use %pip. that will use the pip of the python that is running in jupyter notebook.\n",
    "\n",
    "\n",
    "# %pip install requests\n",
    "# %pip install --upgrade --quiet langchain langchain-core langchain-community langchain-nvidia-ai-endpoints"
   ]
  },
  {
   "cell_type": "code",
   "execution_count": null,
   "id": "8c178290-8859-4205-a857-71b0fe390602",
   "metadata": {},
   "outputs": [],
   "source": [
    "# import requests, base64\n",
    "\n",
    "# invoke_url = \"https://ai.api.nvidia.com/v1/vlm/nvidia/neva-22b\"\n",
    "# stream = True\n",
    "\n",
    "# with open(\"input.jpg\", \"rb\") as f:\n",
    "#     image_b64 = base64.b64encode(f.read()).decode()\n",
    "\n",
    "# assert len(image_b64) < 180_000, \\\n",
    "#   \"To upload larger images, use the assets API (see docs)\"\n",
    "\n",
    "# headers = {\n",
    "#   \"Authorization\": \"Bearer your_api_key_here\",\n",
    "#   \"Accept\": \"text/event-stream\" if stream else \"application/json\"\n",
    "# }\n",
    "\n",
    "# payload = {\n",
    "#   \"messages\": [\n",
    "#     {\n",
    "#       \"role\": \"user\",\n",
    "#       \"content\": f'Describe what you see in this image. <img src=\"data:image/jpg;base64,{image_b64}\" />'\n",
    "#     }\n",
    "#   ],\n",
    "#   \"max_tokens\": 1024,\n",
    "#   \"temperature\": 0.20,\n",
    "#   \"top_p\": 0.70,\n",
    "#   \"seed\": 0,\n",
    "#   \"stream\": stream\n",
    "# }\n",
    "\n",
    "# response = requests.post(invoke_url, headers=headers, json=payload)\n",
    "\n",
    "# if stream:\n",
    "#     for line in response.iter_lines():\n",
    "#         if line:\n",
    "#             print(line.decode(\"utf-8\"))\n",
    "# else:\n",
    "#     response_json = response.json()\n",
    "#     print(response_json)\n"
   ]
  },
  {
   "cell_type": "code",
   "execution_count": 76,
   "id": "c50c3b42-342f-4ff9-a913-8b032cbabf51",
   "metadata": {},
   "outputs": [],
   "source": [
    "import os\n",
    "import time\n",
    "import requests, base64"
   ]
  },
  {
   "cell_type": "code",
   "execution_count": null,
   "id": "8e032c66-b4bb-4989-849a-e621c2c4dfdf",
   "metadata": {},
   "outputs": [],
   "source": [
    "# NVIDIA_NMI_KEY ='your_api_key_here'"
   ]
  },
  {
   "cell_type": "code",
   "execution_count": 77,
   "id": "f232d15c-b033-4125-bf5b-bb94bb92103c",
   "metadata": {},
   "outputs": [],
   "source": [
    "invoke_url = \"https://ai.api.nvidia.com/v1/vlm/adept/fuyu-8b\"\n",
    "stream = False"
   ]
  },
  {
   "cell_type": "code",
   "execution_count": 78,
   "id": "e1d9bc8f-4476-450d-9f05-45853e0e132b",
   "metadata": {},
   "outputs": [
    {
     "data": {
      "text/plain": [
       "'/Users/shubhamrathod/PycharmProjects/NVIDIA/NMI/vision'"
      ]
     },
     "execution_count": 78,
     "metadata": {},
     "output_type": "execute_result"
    }
   ],
   "source": [
    "HOME = os.getcwd()\n",
    "HOME"
   ]
  },
  {
   "cell_type": "code",
   "execution_count": 79,
   "id": "5004ce82-e259-409f-80eb-95f81c329a1f",
   "metadata": {},
   "outputs": [],
   "source": [
    "image_path = f'{HOME}/img1.jpg'"
   ]
  },
  {
   "cell_type": "code",
   "execution_count": 80,
   "id": "81fdc312-a8cb-47e6-85c4-813fbdae6101",
   "metadata": {},
   "outputs": [],
   "source": [
    "from PIL import Image\n",
    "\n",
    "resized_img_path = f'{HOME}/input.jpg'\n",
    "def resize_image(image_path, max_size = (800, 800)):\n",
    "    image = Image.open(image_path)\n",
    "    \n",
    "    resized_image = image.resize(max_size)\n",
    "    resized_image.save(resized_img_path)\n",
    "\n",
    "resize_image(image_path)"
   ]
  },
  {
   "cell_type": "code",
   "execution_count": 81,
   "id": "9441ae00-6f62-4af7-aa7b-9d4848e945af",
   "metadata": {},
   "outputs": [],
   "source": [
    "with open(resized_img_path, \"rb\") as f:\n",
    "    image_b64 = base64.b64encode(f.read()).decode()"
   ]
  },
  {
   "cell_type": "code",
   "execution_count": 82,
   "id": "d85df9af-51be-40e0-917d-6b0cade320ff",
   "metadata": {},
   "outputs": [],
   "source": [
    "# image_b64"
   ]
  },
  {
   "cell_type": "code",
   "execution_count": 83,
   "id": "052213b0-3512-4f8f-8109-4825ca6b7b2a",
   "metadata": {},
   "outputs": [],
   "source": [
    "assert len(image_b64) < 180_000, \\\n",
    "  \"To upload larger images, use the assets API (see docs)\""
   ]
  },
  {
   "cell_type": "code",
   "execution_count": null,
   "id": "b75807c0-2368-4ad0-819e-ad05f452529d",
   "metadata": {},
   "outputs": [],
   "source": [
    "headers = {\n",
    "  \"Authorization\": \"Bearer your_api_key_here\",\n",
    "  \"Accept\": \"application/json\"\n",
    "}"
   ]
  },
  {
   "cell_type": "code",
   "execution_count": 85,
   "id": "fa8ee99b-8b19-48af-b633-1934bb598e02",
   "metadata": {},
   "outputs": [],
   "source": [
    "system_prompt = '''\n",
    "    You are an expert media analyst. Your expertise includes analyzing and understanding every detail that is present in the media.\n",
    "    Make sure to include every small details and dynamic objects such as traffic signals, historic sites, road signs, and animals.\n",
    "    \n",
    "    Your Task:\n",
    "    Carefully examine the following media in detail and provide a detailed, factual, and accurate explanation of what the media depicts.\n",
    "    If this is a well-known location, please provide me with every relevant detail.\n",
    "    Highlight all the key elements and their significance, and present your analysis in clear, well-structured markdown format.\n",
    "'''"
   ]
  },
  {
   "cell_type": "code",
   "execution_count": 62,
   "id": "22509944-6321-473c-98ff-e27a3113a9ad",
   "metadata": {},
   "outputs": [],
   "source": [
    "payload = {\n",
    "  \"messages\": [\n",
    "    {\n",
    "      \"role\": \"user\",\n",
    "      \"content\": f'{system_prompt}. <img src=\"data:image/jpg;base64,{image_b64}\" />'\n",
    "    }\n",
    "  ],\n",
    "  \"max_tokens\": 1024,\n",
    "  \"temperature\": 0.20,\n",
    "  \"top_p\": 0.70,\n",
    "  \"seed\": 0,\n",
    "  \"stream\": stream\n",
    "}"
   ]
  },
  {
   "cell_type": "code",
   "execution_count": 63,
   "id": "a434feca-5d05-4a8d-b634-feeac86fda0f",
   "metadata": {},
   "outputs": [
    {
     "name": "stdout",
     "output_type": "stream",
     "text": [
      "3.218608856201172\n",
      "<Response [200]>\n"
     ]
    }
   ],
   "source": [
    "start = time.time()\n",
    "response = requests.post(invoke_url, headers=headers, json=payload)\n",
    "end = time.time()\n",
    "\n",
    "print(end - start)\n",
    "\n",
    "print(response)"
   ]
  },
  {
   "cell_type": "code",
   "execution_count": 64,
   "id": "c60e3f95-5cf8-4a0f-95e8-d54c63adcd8e",
   "metadata": {},
   "outputs": [
    {
     "data": {
      "text/plain": [
       "200"
      ]
     },
     "execution_count": 64,
     "metadata": {},
     "output_type": "execute_result"
    }
   ],
   "source": [
    "response.status_code"
   ]
  },
  {
   "cell_type": "code",
   "execution_count": 65,
   "id": "2349c03f-e6de-45e1-a0c5-dc0d9b04d34b",
   "metadata": {},
   "outputs": [
    {
     "data": {
      "text/plain": [
       "b'{\"id\":\"6d111cb6-3e0c-44a4-a116-c446a99b094d\",\"choices\":[{\"index\":0,\"message\":{\"role\":\"assistant\",\"content\":\"The image features a street scene with a green and white parking sign on a pole. The sign is located near a building and is positioned next to a red and white \\\\\"no stopping\\\\\" sign. The \\\\\"no stopping\\\\\" sign is larger and more prominent than the parking sign.\\\\n\\\\nThere are two cars visible in the scene, one on the left side and the other on the right side of the image. The cars are parked near the building, and the parking sign is positioned between them.\\\\n\\\\nThe street scene also includes a traffic light, which is located on the left side of the image. The traffic light is positioned above the parking sign and is likely used to control the flow of traffic in the area.\",\"name\":null},\"finish_reason\":\"stop\"}],\"usage\":{\"completion_tokens\":145,\"prompt_tokens\":716,\"total_tokens\":861}}'"
      ]
     },
     "execution_count": 65,
     "metadata": {},
     "output_type": "execute_result"
    }
   ],
   "source": [
    "response.content"
   ]
  },
  {
   "cell_type": "code",
   "execution_count": 66,
   "id": "076045c1-5288-45e0-80b5-4ee412ba87bb",
   "metadata": {},
   "outputs": [
    {
     "data": {
      "text/plain": [
       "'The image features a street scene with a green and white parking sign on a pole. The sign is located near a building and is positioned next to a red and white \"no stopping\" sign. The \"no stopping\" sign is larger and more prominent than the parking sign.\\n\\nThere are two cars visible in the scene, one on the left side and the other on the right side of the image. The cars are parked near the building, and the parking sign is positioned between them.\\n\\nThe street scene also includes a traffic light, which is located on the left side of the image. The traffic light is positioned above the parking sign and is likely used to control the flow of traffic in the area.'"
      ]
     },
     "execution_count": 66,
     "metadata": {},
     "output_type": "execute_result"
    }
   ],
   "source": [
    "response_data = response.json()\n",
    "response_data['choices'][0]['message']['content']"
   ]
  },
  {
   "cell_type": "code",
   "execution_count": null,
   "id": "4079429c-7788-4c95-aeda-1d550ff17bbc",
   "metadata": {},
   "outputs": [],
   "source": []
  },
  {
   "cell_type": "code",
   "execution_count": null,
   "id": "79cfbffc-3290-42b8-ba38-8117d89782ad",
   "metadata": {},
   "outputs": [],
   "source": []
  },
  {
   "cell_type": "code",
   "execution_count": 86,
   "id": "1a11e2d5-84ce-4541-900f-c789155192fe",
   "metadata": {},
   "outputs": [],
   "source": [
    "payload = {\n",
    "  \"messages\": [\n",
    "    {\n",
    "      \"role\": \"user\",\n",
    "      \"content\": f'Can i park my car here at 5PM on monday?. <img src=\"data:image/jpg;base64,{image_b64}\" />'\n",
    "    }\n",
    "  ],\n",
    "  \"max_tokens\": 1024,\n",
    "  \"temperature\": 0.20,\n",
    "  \"top_p\": 0.70,\n",
    "  \"seed\": 0,\n",
    "  \"stream\": stream\n",
    "}"
   ]
  },
  {
   "cell_type": "code",
   "execution_count": 87,
   "id": "5b33bcab-eec8-49da-80b0-0513de6b0540",
   "metadata": {},
   "outputs": [
    {
     "name": "stdout",
     "output_type": "stream",
     "text": [
      "2.203468084335327\n",
      "<Response [200]>\n"
     ]
    }
   ],
   "source": [
    "start = time.time()\n",
    "response = requests.post(invoke_url, headers=headers, json=payload)\n",
    "end = time.time()\n",
    "\n",
    "print(end - start)\n",
    "\n",
    "print(response)"
   ]
  },
  {
   "cell_type": "code",
   "execution_count": 88,
   "id": "9cec6497-c338-4176-866e-a20fbab701ab",
   "metadata": {},
   "outputs": [
    {
     "data": {
      "text/plain": [
       "'Yes, I can park my vehicle at this location at 5PM on Monday. The parking sign indicates that it is 8PM.'"
      ]
     },
     "execution_count": 88,
     "metadata": {},
     "output_type": "execute_result"
    }
   ],
   "source": [
    "response_data = response.json()\n",
    "response_data['choices'][0]['message']['content']"
   ]
  },
  {
   "cell_type": "code",
   "execution_count": null,
   "id": "06423bd9-a3f7-46dd-ae1e-62828cf4318c",
   "metadata": {},
   "outputs": [],
   "source": []
  },
  {
   "cell_type": "code",
   "execution_count": null,
   "id": "2884cae7-5664-4635-b9f6-b868b9c591b1",
   "metadata": {},
   "outputs": [],
   "source": []
  },
  {
   "cell_type": "code",
   "execution_count": null,
   "id": "75b8a622-fa4c-46e4-a710-fc2cb7965270",
   "metadata": {},
   "outputs": [],
   "source": []
  }
 ],
 "metadata": {
  "kernelspec": {
   "display_name": "mynim",
   "language": "python",
   "name": "mynim"
  },
  "language_info": {
   "codemirror_mode": {
    "name": "ipython",
    "version": 3
   },
   "file_extension": ".py",
   "mimetype": "text/x-python",
   "name": "python",
   "nbconvert_exporter": "python",
   "pygments_lexer": "ipython3",
   "version": "3.10.14"
  }
 },
 "nbformat": 4,
 "nbformat_minor": 5
}
