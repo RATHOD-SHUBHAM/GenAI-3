{
 "cells": [
  {
   "cell_type": "code",
   "execution_count": 1,
   "metadata": {
    "colab": {
     "base_uri": "https://localhost:8080/"
    },
    "id": "vNTVpleUd1Yj",
    "outputId": "d9568a91-5c9c-4dc7-f061-ac12742a687c"
   },
   "outputs": [
    {
     "name": "stdout",
     "output_type": "stream",
     "text": [
      "\u001b[?25l     \u001b[90m━━━━━━━━━━━━━━━━━━━━━━━━━━━━━━━━━━━━━━━━\u001b[0m \u001b[32m0.0/67.3 kB\u001b[0m \u001b[31m?\u001b[0m eta \u001b[36m-:--:--\u001b[0m\r\u001b[2K     \u001b[90m━━━━━━━━━━━━━━━━━━━━━━━━━━━━━━━━━━━━━━━━\u001b[0m \u001b[32m67.3/67.3 kB\u001b[0m \u001b[31m2.6 MB/s\u001b[0m eta \u001b[36m0:00:00\u001b[0m\n",
      "\u001b[?25h  Installing build dependencies ... \u001b[?25l\u001b[?25hdone\n",
      "  Getting requirements to build wheel ... \u001b[?25l\u001b[?25hdone\n",
      "  Preparing metadata (pyproject.toml) ... \u001b[?25l\u001b[?25hdone\n",
      "\u001b[2K   \u001b[90m━━━━━━━━━━━━━━━━━━━━━━━━━━━━━━━━━━━━━━━━\u001b[0m \u001b[32m1.0/1.0 MB\u001b[0m \u001b[31m19.0 MB/s\u001b[0m eta \u001b[36m0:00:00\u001b[0m\n",
      "\u001b[2K   \u001b[90m━━━━━━━━━━━━━━━━━━━━━━━━━━━━━━━━━━━━━━━━\u001b[0m \u001b[32m408.7/408.7 kB\u001b[0m \u001b[31m26.1 MB/s\u001b[0m eta \u001b[36m0:00:00\u001b[0m\n",
      "\u001b[2K   \u001b[90m━━━━━━━━━━━━━━━━━━━━━━━━━━━━━━━━━━━━━━━━\u001b[0m \u001b[32m2.4/2.4 MB\u001b[0m \u001b[31m61.6 MB/s\u001b[0m eta \u001b[36m0:00:00\u001b[0m\n",
      "\u001b[2K   \u001b[90m━━━━━━━━━━━━━━━━━━━━━━━━━━━━━━━━━━━━━━━━\u001b[0m \u001b[32m209.0/209.0 kB\u001b[0m \u001b[31m14.9 MB/s\u001b[0m eta \u001b[36m0:00:00\u001b[0m\n",
      "\u001b[2K   \u001b[90m━━━━━━━━━━━━━━━━━━━━━━━━━━━━━━━━━━━━━━━━\u001b[0m \u001b[32m50.4/50.4 kB\u001b[0m \u001b[31m3.6 MB/s\u001b[0m eta \u001b[36m0:00:00\u001b[0m\n",
      "\u001b[2K   \u001b[90m━━━━━━━━━━━━━━━━━━━━━━━━━━━━━━━━━━━━━━━━\u001b[0m \u001b[32m298.0/298.0 kB\u001b[0m \u001b[31m20.1 MB/s\u001b[0m eta \u001b[36m0:00:00\u001b[0m\n",
      "\u001b[2K   \u001b[90m━━━━━━━━━━━━━━━━━━━━━━━━━━━━━━━━━━━━━━━━\u001b[0m \u001b[32m615.5/615.5 kB\u001b[0m \u001b[31m37.2 MB/s\u001b[0m eta \u001b[36m0:00:00\u001b[0m\n",
      "\u001b[2K   \u001b[90m━━━━━━━━━━━━━━━━━━━━━━━━━━━━━━━━━━━━━━━━\u001b[0m \u001b[32m2.4/2.4 MB\u001b[0m \u001b[31m65.5 MB/s\u001b[0m eta \u001b[36m0:00:00\u001b[0m\n",
      "\u001b[2K   \u001b[90m━━━━━━━━━━━━━━━━━━━━━━━━━━━━━━━━━━━━━━━━\u001b[0m \u001b[32m94.7/94.7 kB\u001b[0m \u001b[31m7.3 MB/s\u001b[0m eta \u001b[36m0:00:00\u001b[0m\n",
      "\u001b[2K   \u001b[90m━━━━━━━━━━━━━━━━━━━━━━━━━━━━━━━━━━━━━━━━\u001b[0m \u001b[32m389.6/389.6 kB\u001b[0m \u001b[31m25.4 MB/s\u001b[0m eta \u001b[36m0:00:00\u001b[0m\n",
      "\u001b[2K   \u001b[90m━━━━━━━━━━━━━━━━━━━━━━━━━━━━━━━━━━━━━━━━\u001b[0m \u001b[32m3.1/3.1 MB\u001b[0m \u001b[31m72.2 MB/s\u001b[0m eta \u001b[36m0:00:00\u001b[0m\n",
      "\u001b[2K   \u001b[90m━━━━━━━━━━━━━━━━━━━━━━━━━━━━━━━━━━━━━━━━\u001b[0m \u001b[32m1.2/1.2 MB\u001b[0m \u001b[31m41.7 MB/s\u001b[0m eta \u001b[36m0:00:00\u001b[0m\n",
      "\u001b[2K   \u001b[90m━━━━━━━━━━━━━━━━━━━━━━━━━━━━━━━━━━━━━━━━\u001b[0m \u001b[32m273.8/273.8 kB\u001b[0m \u001b[31m19.5 MB/s\u001b[0m eta \u001b[36m0:00:00\u001b[0m\n",
      "\u001b[2K   \u001b[90m━━━━━━━━━━━━━━━━━━━━━━━━━━━━━━━━━━━━━━━━\u001b[0m \u001b[32m1.9/1.9 MB\u001b[0m \u001b[31m66.9 MB/s\u001b[0m eta \u001b[36m0:00:00\u001b[0m\n",
      "\u001b[2K   \u001b[90m━━━━━━━━━━━━━━━━━━━━━━━━━━━━━━━━━━━━━━━━\u001b[0m \u001b[32m49.5/49.5 kB\u001b[0m \u001b[31m3.6 MB/s\u001b[0m eta \u001b[36m0:00:00\u001b[0m\n",
      "\u001b[2K   \u001b[90m━━━━━━━━━━━━━━━━━━━━━━━━━━━━━━━━━━━━━━━━\u001b[0m \u001b[32m93.2/93.2 kB\u001b[0m \u001b[31m6.2 MB/s\u001b[0m eta \u001b[36m0:00:00\u001b[0m\n",
      "\u001b[2K   \u001b[90m━━━━━━━━━━━━━━━━━━━━━━━━━━━━━━━━━━━━━━━━\u001b[0m \u001b[32m13.3/13.3 MB\u001b[0m \u001b[31m73.9 MB/s\u001b[0m eta \u001b[36m0:00:00\u001b[0m\n",
      "\u001b[2K   \u001b[90m━━━━━━━━━━━━━━━━━━━━━━━━━━━━━━━━━━━━━━━━\u001b[0m \u001b[32m55.8/55.8 kB\u001b[0m \u001b[31m4.1 MB/s\u001b[0m eta \u001b[36m0:00:00\u001b[0m\n",
      "\u001b[2K   \u001b[90m━━━━━━━━━━━━━━━━━━━━━━━━━━━━━━━━━━━━━━━━\u001b[0m \u001b[32m159.2/159.2 kB\u001b[0m \u001b[31m12.3 MB/s\u001b[0m eta \u001b[36m0:00:00\u001b[0m\n",
      "\u001b[2K   \u001b[90m━━━━━━━━━━━━━━━━━━━━━━━━━━━━━━━━━━━━━━━━\u001b[0m \u001b[32m64.3/64.3 kB\u001b[0m \u001b[31m4.3 MB/s\u001b[0m eta \u001b[36m0:00:00\u001b[0m\n",
      "\u001b[2K   \u001b[90m━━━━━━━━━━━━━━━━━━━━━━━━━━━━━━━━━━━━━━━━\u001b[0m \u001b[32m118.7/118.7 kB\u001b[0m \u001b[31m8.2 MB/s\u001b[0m eta \u001b[36m0:00:00\u001b[0m\n",
      "\u001b[2K   \u001b[90m━━━━━━━━━━━━━━━━━━━━━━━━━━━━━━━━━━━━━━━━\u001b[0m \u001b[32m54.4/54.4 kB\u001b[0m \u001b[31m4.0 MB/s\u001b[0m eta \u001b[36m0:00:00\u001b[0m\n",
      "\u001b[2K   \u001b[90m━━━━━━━━━━━━━━━━━━━━━━━━━━━━━━━━━━━━━━━━\u001b[0m \u001b[32m73.3/73.3 kB\u001b[0m \u001b[31m5.7 MB/s\u001b[0m eta \u001b[36m0:00:00\u001b[0m\n",
      "\u001b[2K   \u001b[90m━━━━━━━━━━━━━━━━━━━━━━━━━━━━━━━━━━━━━━━━\u001b[0m \u001b[32m63.7/63.7 kB\u001b[0m \u001b[31m4.8 MB/s\u001b[0m eta \u001b[36m0:00:00\u001b[0m\n",
      "\u001b[2K   \u001b[90m━━━━━━━━━━━━━━━━━━━━━━━━━━━━━━━━━━━━━━━━\u001b[0m \u001b[32m442.1/442.1 kB\u001b[0m \u001b[31m27.4 MB/s\u001b[0m eta \u001b[36m0:00:00\u001b[0m\n",
      "\u001b[2K   \u001b[90m━━━━━━━━━━━━━━━━━━━━━━━━━━━━━━━━━━━━━━━━\u001b[0m \u001b[32m316.6/316.6 kB\u001b[0m \u001b[31m22.0 MB/s\u001b[0m eta \u001b[36m0:00:00\u001b[0m\n",
      "\u001b[2K   \u001b[90m━━━━━━━━━━━━━━━━━━━━━━━━━━━━━━━━━━━━━━━━\u001b[0m \u001b[32m3.8/3.8 MB\u001b[0m \u001b[31m69.4 MB/s\u001b[0m eta \u001b[36m0:00:00\u001b[0m\n",
      "\u001b[2K   \u001b[90m━━━━━━━━━━━━━━━━━━━━━━━━━━━━━━━━━━━━━━━━\u001b[0m \u001b[32m425.7/425.7 kB\u001b[0m \u001b[31m21.1 MB/s\u001b[0m eta \u001b[36m0:00:00\u001b[0m\n",
      "\u001b[2K   \u001b[90m━━━━━━━━━━━━━━━━━━━━━━━━━━━━━━━━━━━━━━━━\u001b[0m \u001b[32m167.5/167.5 kB\u001b[0m \u001b[31m11.9 MB/s\u001b[0m eta \u001b[36m0:00:00\u001b[0m\n",
      "\u001b[2K   \u001b[90m━━━━━━━━━━━━━━━━━━━━━━━━━━━━━━━━━━━━━━━━\u001b[0m \u001b[32m46.0/46.0 kB\u001b[0m \u001b[31m3.3 MB/s\u001b[0m eta \u001b[36m0:00:00\u001b[0m\n",
      "\u001b[2K   \u001b[90m━━━━━━━━━━━━━━━━━━━━━━━━━━━━━━━━━━━━━━━━\u001b[0m \u001b[32m86.8/86.8 kB\u001b[0m \u001b[31m6.2 MB/s\u001b[0m eta \u001b[36m0:00:00\u001b[0m\n",
      "\u001b[?25h  Building wheel for pypika (pyproject.toml) ... \u001b[?25l\u001b[?25hdone\n",
      "\u001b[31mERROR: pip's dependency resolver does not currently take into account all the packages that are installed. This behaviour is the source of the following dependency conflicts.\n",
      "google-cloud-datastore 2.19.0 requires protobuf!=3.20.0,!=3.20.1,!=4.21.0,!=4.21.1,!=4.21.2,!=4.21.3,!=4.21.4,!=4.21.5,<5.0.0dev,>=3.19.5, but you have protobuf 5.28.3 which is incompatible.\n",
      "google-cloud-firestore 2.16.1 requires protobuf!=3.20.0,!=3.20.1,!=4.21.0,!=4.21.1,!=4.21.2,!=4.21.3,!=4.21.4,!=4.21.5,<5.0.0dev,>=3.19.5, but you have protobuf 5.28.3 which is incompatible.\n",
      "tensorboard 2.17.0 requires protobuf!=4.24.0,<5.0.0,>=3.19.6, but you have protobuf 5.28.3 which is incompatible.\n",
      "tensorflow 2.17.0 requires protobuf!=4.21.0,!=4.21.1,!=4.21.2,!=4.21.3,!=4.21.4,!=4.21.5,<5.0.0dev,>=3.20.3, but you have protobuf 5.28.3 which is incompatible.\n",
      "tensorflow-metadata 1.16.1 requires protobuf<4.21,>=3.20.3; python_version < \"3.11\", but you have protobuf 5.28.3 which is incompatible.\u001b[0m\u001b[31m\n",
      "\u001b[0m"
     ]
    }
   ],
   "source": [
    "!pip install -qU langchain langchain-core langchain-community langchain-experimental langchain-openai langchain-text-splitters langchain-huggingface sentence_transformers pypdf langchain_chroma"
   ]
  },
  {
   "cell_type": "code",
   "execution_count": 1,
   "metadata": {
    "id": "xYWELtFufvYF"
   },
   "outputs": [],
   "source": []
  },
  {
   "cell_type": "code",
   "execution_count": 2,
   "metadata": {
    "id": "Gpct9o00grG9"
   },
   "outputs": [],
   "source": [
    "from langchain_openai import AzureChatOpenAI\n",
    "import os\n",
    "from google.colab import userdata"
   ]
  },
  {
   "cell_type": "code",
   "execution_count": null,
   "metadata": {
    "id": "ldR815Rmgrev"
   },
   "outputs": [],
   "source": [
    "os.environ[\"OPENAI_API_TYPE\"] = \"azure_ad\"\n",
    "os.environ[\"AZURE_OPENAI_ENDPOINT\"] = \"\"\n",
    "os.environ[\"AZURE_OPENAI_API_VERSION\"] = \"2024-05-01-preview\"\n",
    "os.environ[\"AZURE_OPENAI_API_KEY\"] = \"\"\n",
    "os.environ[\"AZURE_OPENAI_GPT4O_MODEL_NAME\"] = \"gpt-4o\"\n",
    "os.environ['HUGGINGFACEHUB_API_TOKEN'] = userdata.get('HUGGINGFACEHUB_API_TOKEN')"
   ]
  },
  {
   "cell_type": "markdown",
   "metadata": {
    "id": "rzQ2iqr4kCNT"
   },
   "source": [
    "# Set Up LLM."
   ]
  },
  {
   "cell_type": "code",
   "execution_count": 4,
   "metadata": {
    "id": "n1KgzRRBgs2N"
   },
   "outputs": [],
   "source": [
    "llm = AzureChatOpenAI(\n",
    "            openai_api_version=os.environ[\"AZURE_OPENAI_API_VERSION\"],\n",
    "            azure_deployment=os.environ[\"AZURE_OPENAI_GPT4O_MODEL_NAME\"],\n",
    "            temperature=1,\n",
    "        )"
   ]
  },
  {
   "cell_type": "code",
   "execution_count": 4,
   "metadata": {
    "id": "m_jskINVjiQY"
   },
   "outputs": [],
   "source": []
  },
  {
   "cell_type": "code",
   "execution_count": 4,
   "metadata": {
    "id": "SHj5eRVjjiFV"
   },
   "outputs": [],
   "source": []
  },
  {
   "cell_type": "markdown",
   "metadata": {
    "id": "eVdXwbzgkEiv"
   },
   "source": [
    "# Load PDF"
   ]
  },
  {
   "cell_type": "code",
   "execution_count": 5,
   "metadata": {
    "id": "nEm7DeDvkFhN"
   },
   "outputs": [],
   "source": [
    "from langchain_community.document_loaders import PyPDFLoader"
   ]
  },
  {
   "cell_type": "code",
   "execution_count": 6,
   "metadata": {
    "id": "_NsXUPPwkG9x"
   },
   "outputs": [],
   "source": [
    "file_path = '/content/drive/MyDrive/Colab_Notebooks/GenerativeAI/RAG/docs/Wirebonding.pdf'\n",
    "\n",
    "loader = PyPDFLoader(\n",
    "    file_path=file_path\n",
    ")"
   ]
  },
  {
   "cell_type": "code",
   "execution_count": 7,
   "metadata": {
    "id": "g0tbwGd_kJto"
   },
   "outputs": [],
   "source": [
    "docs = loader.load()"
   ]
  },
  {
   "cell_type": "code",
   "execution_count": 7,
   "metadata": {
    "id": "hz_J6tbOkh38"
   },
   "outputs": [],
   "source": []
  },
  {
   "cell_type": "markdown",
   "metadata": {
    "id": "46hfnxikknC6"
   },
   "source": [
    "# Chunk Docs"
   ]
  },
  {
   "cell_type": "code",
   "execution_count": 8,
   "metadata": {
    "id": "f4GNVRDakn7e"
   },
   "outputs": [],
   "source": [
    "from langchain_text_splitters import RecursiveCharacterTextSplitter"
   ]
  },
  {
   "cell_type": "code",
   "execution_count": 9,
   "metadata": {
    "id": "Yx5I704lkpP0"
   },
   "outputs": [],
   "source": [
    "text_splitter = RecursiveCharacterTextSplitter(\n",
    "    chunk_size = 4000,\n",
    "    chunk_overlap = 800,\n",
    "    length_function = len,\n",
    "    is_separator_regex=False\n",
    "\n",
    ")"
   ]
  },
  {
   "cell_type": "code",
   "execution_count": 10,
   "metadata": {
    "id": "KGdJfZGHkqVe"
   },
   "outputs": [],
   "source": [
    "texts = text_splitter.split_documents(docs)"
   ]
  },
  {
   "cell_type": "code",
   "execution_count": 10,
   "metadata": {
    "id": "GeB5AFlokrhE"
   },
   "outputs": [],
   "source": []
  },
  {
   "cell_type": "markdown",
   "metadata": {
    "id": "TJqRPOxwksgO"
   },
   "source": [
    "# Embedding model"
   ]
  },
  {
   "cell_type": "code",
   "execution_count": 11,
   "metadata": {
    "id": "dK_Dot8xlrhh"
   },
   "outputs": [],
   "source": [
    "from langchain_openai import AzureOpenAIEmbeddings"
   ]
  },
  {
   "cell_type": "code",
   "execution_count": 12,
   "metadata": {
    "id": "n7AzLsMPEJ0b"
   },
   "outputs": [],
   "source": [
    "embeddings = AzureOpenAIEmbeddings(\n",
    "    model=\"text-embedding-3-large\",\n",
    ")"
   ]
  },
  {
   "cell_type": "code",
   "execution_count": 13,
   "metadata": {
    "colab": {
     "base_uri": "https://localhost:8080/"
    },
    "id": "ttHXxbS1EJtC",
    "outputId": "40ca6244-1b4d-4cbe-d22e-073d244c5875"
   },
   "outputs": [
    {
     "data": {
      "text/plain": [
       "3072"
      ]
     },
     "execution_count": 13,
     "metadata": {},
     "output_type": "execute_result"
    }
   ],
   "source": [
    "embeddings_size = embeddings.embed_query(\"Hello World\")\n",
    "\n",
    "len(embeddings_size)"
   ]
  },
  {
   "cell_type": "code",
   "execution_count": 13,
   "metadata": {
    "id": "GfKOcMN9FMES"
   },
   "outputs": [],
   "source": []
  },
  {
   "cell_type": "markdown",
   "metadata": {
    "id": "GzBbFvbTlyfx"
   },
   "source": [
    "# Vector Store"
   ]
  },
  {
   "cell_type": "code",
   "execution_count": 14,
   "metadata": {
    "id": "GA0cOqCrlz0W"
   },
   "outputs": [],
   "source": [
    "from langchain_chroma import Chroma"
   ]
  },
  {
   "cell_type": "code",
   "execution_count": 15,
   "metadata": {
    "id": "cbPtewgbIYxP"
   },
   "outputs": [],
   "source": [
    "%rm -rf \"/content/wirebonding_db\""
   ]
  },
  {
   "cell_type": "code",
   "execution_count": 16,
   "metadata": {
    "id": "k1ss7tbOl1Gk"
   },
   "outputs": [],
   "source": [
    "persist_directory='wirebonding_db'\n",
    "\n",
    "if os.path.exists(persist_directory):\n",
    "    # Load from disk\n",
    "    db = Chroma(\n",
    "        persist_directory=persist_directory,\n",
    "        embedding_function=embeddings\n",
    "    )\n",
    "else:\n",
    "  # Save to disk.\n",
    "  db = Chroma.from_documents(\n",
    "      documents=texts,\n",
    "      embedding=embeddings,\n",
    "      persist_directory=persist_directory\n",
    "  )"
   ]
  },
  {
   "cell_type": "code",
   "execution_count": 17,
   "metadata": {
    "id": "qaHgzoWpobOL"
   },
   "outputs": [],
   "source": [
    "vectorstores_retriever = db.as_retriever(search_kwargs={\"k\": 3})"
   ]
  },
  {
   "cell_type": "code",
   "execution_count": 18,
   "metadata": {
    "colab": {
     "base_uri": "https://localhost:8080/"
    },
    "id": "7qwV2KhToiRh",
    "outputId": "b68f5596-612d-45c7-a3a7-5cdaa6d9f96b"
   },
   "outputs": [
    {
     "data": {
      "text/plain": [
       "3"
      ]
     },
     "execution_count": 18,
     "metadata": {},
     "output_type": "execute_result"
    }
   ],
   "source": [
    "retrieved_docs = vectorstores_retriever.invoke(\"Wire bond forms?\")\n",
    "\n",
    "len(retrieved_docs)"
   ]
  },
  {
   "cell_type": "code",
   "execution_count": 19,
   "metadata": {
    "colab": {
     "base_uri": "https://localhost:8080/"
    },
    "id": "x0w2Q5gDpI4x",
    "outputId": "e3e1b6b6-1163-434f-84b9-77a65bfe368a"
   },
   "outputs": [
    {
     "data": {
      "text/plain": [
       "[Document(metadata={'page': 0, 'source': '/content/drive/MyDrive/Colab_Notebooks/GenerativeAI/RAG/docs/Wirebonding.pdf'}, page_content='Wire Bond / Ball Shear Application Note \\n \\nWhat is wirebonding  \\nWirebonding  \\nWirebonding is an electrical interconnection technique using thin wire and a combination \\nof heat, pressure and/or ultrasonic energy. Wire bonding is a solid phase welding process, \\nwhere the two metallic materials (wire and pad surface) are brought into intimate contact. \\nOnce the surfaces are in intimate contact, electron sharing or interdiffusion of atoms takes \\nplace, resulting in the formation of wirebond. In wirebonding process, bonding force can \\nlead to material deformation, breaking up contamination layer and smoothing out surface \\nasperity, which can be enhanced by the application of ultrasonic energy. Heat can \\naccelerate Interatomic diffusion, thus the bond formation.  \\nWirebonding processes  \\nWirebonding process begins by firmly attaching the backside of a chip to a chip carrier \\nusing either an organic conductive adhesive or a solder (Die Attach). The wires then are \\nwelded using a special bonding tool (capillary or wedge). Depending on bonding agent \\n(heat and ultrasonic energy), the bonding process can be defined to three major processes: \\nthermocompression bonding , ultrasonic bonding , and thermosonic bonding . \\nThree wirebonding processes  \\n1. Thermocompression : requires high pressure, with temperature between 300-\\n500 ̊C and no ultrasonic energy , and the wire used is Gold.  \\n2. Ultrasonic : requires Low pressure, with temperature of 25 ̊C and needs ultrasonic \\nenergy , and the wire used is Gold, Aluminium. \\n3. Thermosonic : requires Low pressure, with temperature between 100-150C and \\nneeds ultrasonic energy , and the wire used is Gold. \\n* DLI Thermosonic temperature 100-240 ̊C  \\n \\nWire bond forms  \\nThere are two basic forms of wire bond: ball bond and wedge bond. Currently, thermosonic \\ngold ball bonding is the most widely used bonding technique, primarily because it is faster \\nthan ultrasonic aluminum bonding. Once the ball bond is made on the device, the wire may \\nbe moved in any direction without stress on the wire, which greatly facilitates automatic \\nwire bonding, as the movement need only be in the x and y directions.'),\n",
       " Document(metadata={'page': 4, 'source': '/content/drive/MyDrive/Colab_Notebooks/GenerativeAI/RAG/docs/Wirebonding.pdf'}, page_content='Wire Bond / Ball Shear Application Note \\n \\nBall bonding is the process in which pads are connected onto a die and leadframe (or \\nsubstrate) using very fine diameter wire. The basic steps of ball bonding include the \\nformation of: the first bond (normally on the chip), the wire loop, and the second bond \\n(normally on the substrate).  \\nAt the beginning of the wire cycle, the bonding tool travels down to the first bond location. The \\nfirst bond is achieved by bonding a spherical ball to the pad using thermal and ultrasonic energy. \\nThe initial bond is also referred to as the ball bond. Looping motions are programmed to meet \\nthe package requirement for loop height and shape. \\nThe second bond consists of a stitch bond that bonds the opposite end of the wire and a tail bond. \\nThe tail bond is needed to form a wire tail for the next ball formation. After the bonding tool \\nrises to pay out the wire tail, the tail is broken off and the bonding tool rises up to the ball \\nformation height. The ball formation process is achieved by ionization of the air gap in a process \\ncalled “electronic flame-off” (EFO). The resulting ball is known as a “free air ball” (FAB).  \\n \\nWire Bonding Material  \\nWire bonding materials used in a ball bonding process mainly include the bonding wire and \\nbonding tool. Ball bonding tools are called capillaries, which are axial-symmetric ceramic tools \\nwith vertical feed holes. \\nMost bonding wire used in ball bonding is gold (Gold) wire of 99.99% purity, which is often \\nreferred to as 4Ns wire. Alloy wires (99.99% or less purity) are sometimes used to meet special \\napplication requirements, such as high wire strength. Studies have shown that certain dopant \\n(impurity in the wire) can slow Gold -Aluminium intermetallic growth. 3Ns and 2Ns wires are \\nsometimes considered to improve device reliability. \\nA special consideration for bonding wire is its heat-affected zone length, which is related to the \\nrecrystallization process due to the heat from EFO. The heat-affect zone often weakens the wire. \\nA longer heat-affect zone in the wire often results in higher loop height. Some low-loop \\napplications require high strength and a low heat-affected zone. \\nCopper  wires can be bonded with some modifications to the wire bonder. The modifications \\nmainly consist of using a forming gas environment to prevent Copper oxidation during the free \\nair ball formation. Both Gold and Copper bonding are done at an elevated temperature (normally \\n150 ̊ to 240 ̊C, depending on the device). This process is called thermosonic bonding because \\nof the use of heat and ultrasonic energy.  \\n \\n \\nWire Bonding Process'),\n",
       " Document(metadata={'page': 5, 'source': '/content/drive/MyDrive/Colab_Notebooks/GenerativeAI/RAG/docs/Wirebonding.pdf'}, page_content='Wire Bond / Ball Shear Application Note \\n \\nThe critical steps in the wire bonding process include achieving reliable bonds (first bond, \\nsecond bond, and tail bonds), maintaining desired loops, and positioning the bonds accurately. \\nThroughput also is an important factor, since it affects the cost of the device.  \\nAchieving desired first and second bonds usually requires optimizing bonding parameters. A \\ndesign of experiment can be done to optimize these parameters, which would include impact \\nforce, bonding force, and ultrasonic energy levels. A proper free air ball size normally is \\ndetermined before starting a first-bond design of experiment. Looping trajectories are selected \\naccording to the application requirements.  \\nThere are two basic types of loops: forward and reverse. A forward looping process places a ball \\nbond on the die first, then places a stitch bond on the lead, as shown in Figure 1. A reverse ball \\nbonding process, however, places a bump on the die pad first. After the bump is formed, a ball \\nbond is placed on the substrate, followed by a stitch bond on the bump. Low-profile looping \\nrequirements have propelled the growing use of reverse ball bonding, which is a slower process \\nthan forward bonding. \\nLeading Wire Bonding Applications  \\nThe most advanced wire bonding applications include: ultra-fine pitch (<60-μm pitch), stacked \\ndie, and multi-tier applications. These advanced applications often require more process \\noptimization, as well as higher requirements for bonding material and equipment.  \\nFine-pitch Applications. Wire bonding fine-pitch capability has been demonstrated in the \\nlaboratory at 35-μm inline pitch. For 35-μm pitch ball bonding, 15-μm wire typically is used \\nwith a bonded ball diameter of 27 μm.  \\nFine-pitch applications demand a higher capability of the wire bonder, including better control of \\nthe bonding force, ultrasonic energy level, as well as a looping capability of fine wires, which \\nhas much less strength and is more inclined to loop sway. A wire bonder that meets the demands \\nof fine pitch should also include high-precision motion and a vision system with submicron \\naccuracy.  \\nStacked Die Applications. Stacked die applications are one of the fastest-growing trends in the \\nsemiconductor industry. The desire for smaller, lighter, and smarter devices is driving this 3-D \\npackaging technology. Stacked die applications present various wire bonding challenges, \\nincluding low-loop and multi-level wire bonding loop clearance requirements, bonding to \\noverhang unsupported die edges, and loop resistance to wire sweep during molding.  \\nMost wire bonding applications use the typical forward bonding process, because it is faster and \\nmore capable of finer pitch than reverse bonding. However, forward ball bonding has a loop \\nheight constraint due to the neck area above the ball. Excessive bending above the ball can cause \\nneck cracks, which results in reliability problems. Reverse bonding can achieve loop height \\nlower than 75 μm  \\nFailure Mechanisms of wire bonds')]"
      ]
     },
     "execution_count": 19,
     "metadata": {},
     "output_type": "execute_result"
    }
   ],
   "source": [
    "retrieved_docs"
   ]
  },
  {
   "cell_type": "code",
   "execution_count": 20,
   "metadata": {
    "colab": {
     "base_uri": "https://localhost:8080/"
    },
    "id": "3SRhw8dIpKbA",
    "outputId": "ce0a0a9e-1960-413f-d52d-7aca2e4ee4f6"
   },
   "outputs": [
    {
     "name": "stdout",
     "output_type": "stream",
     "text": [
      "Wire Bond / Ball Shear Application Note \n",
      " \n",
      "What is wirebonding  \n",
      "Wirebonding  \n",
      "Wirebonding is an electrical interconnection technique using thin wire and a combination \n",
      "of heat, pressure and/or ultrasonic energy. Wire bonding is a solid phase welding process, \n",
      "where the two metallic materials (wire and pad surface) are brought into intimate contact. \n",
      "Once the surfaces are in intimate contact, electron sharing or interdiffusion of atoms takes \n",
      "place, resulting in the formation of wirebond. In wirebonding process, bonding force can \n",
      "lead to material deformation, breaking up contamination layer and smoothing out surface \n",
      "asperity, which can be enhanced by the application of ultrasonic energy. Heat can \n",
      "accelerate Interatomic diffusion, thus the bond formation.  \n",
      "Wirebonding processes  \n",
      "Wirebonding process begins by firmly attaching the backside of a chip to a chip carrier \n",
      "using either an organic conductive adhesive or a solder (Die Attach). The wires then are \n",
      "welded using a special bonding tool (capillary or wedge). Depending on bonding agent \n",
      "(heat and ultrasonic energy), the bonding process can be defined to three major processes: \n",
      "thermocompression bonding , ultrasonic bonding , and thermosonic bonding . \n",
      "Three wirebonding processes  \n",
      "1. Thermocompression : requires high pressure, with temperature between 300-\n",
      "500 ̊C and no ultrasonic energy , and the wire used is Gold.  \n",
      "2. Ultrasonic : requires Low pressure, with temperature of 25 ̊C and needs ultrasonic \n",
      "energy , and the wire used is Gold, Aluminium. \n",
      "3. Thermosonic : requires Low pressure, with temperature between 100-150C and \n",
      "needs ultrasonic energy , and the wire used is Gold. \n",
      "* DLI Thermosonic temperature 100-240 ̊C  \n",
      " \n",
      "Wire bond forms  \n",
      "There are two basic forms of wire bond: ball bond and wedge bond. Currently, thermosonic \n",
      "gold ball bonding is the most widely used bonding technique, primarily because it is faster \n",
      "than ultrasonic aluminum bonding. Once the ball bond is made on the device, the wire may \n",
      "be moved in any direction without stress on the wire, which greatly facilitates automatic \n",
      "wire bonding, as the movement need only be in the x and y directions.\n"
     ]
    }
   ],
   "source": [
    "print(retrieved_docs[0].page_content)"
   ]
  },
  {
   "cell_type": "code",
   "execution_count": 20,
   "metadata": {
    "id": "9h3ggnxppWHq"
   },
   "outputs": [],
   "source": []
  },
  {
   "cell_type": "markdown",
   "metadata": {
    "id": "PpdDTd9Rpg83"
   },
   "source": [
    "# Prompting"
   ]
  },
  {
   "cell_type": "code",
   "execution_count": 21,
   "metadata": {
    "id": "Ftv0wZnjUKxN"
   },
   "outputs": [],
   "source": [
    "from langchain.chains import create_retrieval_chain, create_history_aware_retriever\n",
    "from langchain.chains.combine_documents import create_stuff_documents_chain\n",
    "from langchain_core.prompts import ChatPromptTemplate, MessagesPlaceholder"
   ]
  },
  {
   "cell_type": "code",
   "execution_count": 22,
   "metadata": {
    "id": "HuvsQHMxUL6a"
   },
   "outputs": [],
   "source": [
    "contextualize_q_system_prompt = (\n",
    "    \"Given a chat history and the latest user question \"\n",
    "    \"which might reference context in the chat history, \"\n",
    "    \"formulate a standalone question which can be understood \"\n",
    "    \"without the chat history. Do NOT answer the question, \"\n",
    "    \"just reformulate it if needed and otherwise return it as is.\"\n",
    ")"
   ]
  },
  {
   "cell_type": "code",
   "execution_count": 23,
   "metadata": {
    "id": "Es_VtgskU3Om"
   },
   "outputs": [],
   "source": [
    "contextualize_q_prompt = ChatPromptTemplate.from_messages(\n",
    "    [\n",
    "        (\"system\", contextualize_q_system_prompt),\n",
    "        MessagesPlaceholder(\"chat_history\"),\n",
    "        (\"human\", \"{input}\"),\n",
    "    ]\n",
    ")"
   ]
  },
  {
   "cell_type": "code",
   "execution_count": 24,
   "metadata": {
    "id": "N1_52inYU6OB"
   },
   "outputs": [],
   "source": [
    "history_aware_retriever = create_history_aware_retriever(\n",
    "    llm,\n",
    "    vectorstores_retriever,\n",
    "    contextualize_q_prompt\n",
    ")"
   ]
  },
  {
   "cell_type": "code",
   "execution_count": 25,
   "metadata": {
    "id": "gFDP4KnWU-y9"
   },
   "outputs": [],
   "source": [
    "system_prompt = '''\n",
    "  You are a friendly local guide who is an expert on Wire Bond and Ball Shear Application and is fluent in Hindi, Tamil, Gujarati and English, with a conversational, human approach.\n",
    "\n",
    "  Audience:\n",
    "  Your intended audience consists of factory workers. So you always converse in a way they can understand\n",
    "\n",
    "  Your Task:\n",
    "  Identify the language of the user’s question. Then, respond in the identifed language only, keeping your answer natural and conversational, just as people speak.\n",
    "  Use English terms as needed to enhance clarity and keep the response engaging, rather than formal or strictly academic.\n",
    "\n",
    "\n",
    "  Knowledge Scope:\n",
    "  Use the following pieces of context to answer the user question.\n",
    "  {context}\n",
    "\n",
    "  If you don't know the answer, just say that you don't know, don't try to make up an answer.\n",
    "  Use three sentences maximum and keep the answer as concise as possible.\n",
    "\n",
    "\n",
    "  Question: {input}\n",
    "\n",
    "  Guidelines for Response:\n",
    "  * If the identified language is in English, then you must respond back in English.\n",
    "  * You can use English terms as needed to enhance clarity and keep the response engaging, rather than formal or strictly academic.\n",
    "  * Answer only from the provided context. Donot make up an answer.\n",
    "  * You are not a translator, instead you a expert multilingual agent.\n",
    "\n",
    "Output Format:\n",
    "  When you receive an input, first output the detected language, and then provide the response in the following format:\n",
    "    Detected language: Response\n",
    "  Example:\n",
    "    English: In the ultrasonic wirebonding process, low pressure and ultrasonic energy are used, with a typical temperature of 25°C, and it uses Gold or Aluminium wires. In the thermosonic wirebonding process, it requires low pressure as well, but involves a higher temperature range of 100-150°C along with ultrasonic energy and primarily uses Gold wires.\n",
    "'''"
   ]
  },
  {
   "cell_type": "code",
   "execution_count": 26,
   "metadata": {
    "id": "n4z5UnCuVKOQ"
   },
   "outputs": [],
   "source": [
    "qa_prompt = ChatPromptTemplate.from_messages(\n",
    "    [\n",
    "        (\"system\", system_prompt),\n",
    "        MessagesPlaceholder(\"chat_history\"),\n",
    "        (\"human\", \"{input}\"),\n",
    "    ]\n",
    ")"
   ]
  },
  {
   "cell_type": "markdown",
   "metadata": {
    "id": "YGpwtA8Om30g"
   },
   "source": [
    "# Chaining"
   ]
  },
  {
   "cell_type": "code",
   "execution_count": 27,
   "metadata": {
    "id": "SHyNevYYm3k7"
   },
   "outputs": [],
   "source": [
    "question_answer_chain = create_stuff_documents_chain(\n",
    "    llm,\n",
    "    qa_prompt\n",
    "    )\n",
    "\n"
   ]
  },
  {
   "cell_type": "code",
   "execution_count": 28,
   "metadata": {
    "id": "gdlP_mItVTU_"
   },
   "outputs": [],
   "source": [
    "rag_chain = create_retrieval_chain(\n",
    "    history_aware_retriever,\n",
    "    question_answer_chain\n",
    "    )"
   ]
  },
  {
   "cell_type": "markdown",
   "metadata": {
    "id": "e61DOmgbnHxT"
   },
   "source": [
    "# Run Chain"
   ]
  },
  {
   "cell_type": "code",
   "execution_count": 29,
   "metadata": {
    "id": "oJKlGyU-nHhi"
   },
   "outputs": [],
   "source": [
    "from langchain_core.messages import HumanMessage, AIMessage"
   ]
  },
  {
   "cell_type": "code",
   "execution_count": 30,
   "metadata": {
    "id": "hH66Ji7knOTf"
   },
   "outputs": [],
   "source": [
    "chat_history = []"
   ]
  },
  {
   "cell_type": "code",
   "execution_count": 31,
   "metadata": {
    "colab": {
     "base_uri": "https://localhost:8080/",
     "height": 71
    },
    "id": "TrEwvgKdVTSY",
    "outputId": "20be3d44-8b31-4f82-9365-27f27c26a862"
   },
   "outputs": [
    {
     "data": {
      "application/vnd.google.colaboratory.intrinsic+json": {
       "type": "string"
      },
      "text/plain": [
       "'English: In the ultrasonic wirebonding process, low pressure and ultrasonic energy are used, with a typical temperature of 25°C, and it uses Gold or Aluminium wires. In the thermosonic wirebonding process, it requires low pressure as well, but involves a higher temperature range of 100-150°C along with ultrasonic energy and primarily uses Gold wires.'"
      ]
     },
     "execution_count": 31,
     "metadata": {},
     "output_type": "execute_result"
    }
   ],
   "source": [
    "user_input = \"What is the difference between ultrasonic and thermosonic wirebonding process??\"\n",
    "\n",
    "response = rag_chain.invoke({\n",
    "    \"input\" : user_input,\n",
    "    \"chat_history\" : chat_history,\n",
    "\n",
    "})\n",
    "\n",
    "response['answer']"
   ]
  },
  {
   "cell_type": "code",
   "execution_count": 32,
   "metadata": {
    "id": "s8mODwbXnMEd"
   },
   "outputs": [],
   "source": [
    "chat_history.extend([\n",
    "    HumanMessage(content=user_input),\n",
    "    AIMessage(content=response['answer'])\n",
    "])"
   ]
  },
  {
   "cell_type": "code",
   "execution_count": 33,
   "metadata": {
    "colab": {
     "base_uri": "https://localhost:8080/",
     "height": 53
    },
    "id": "BrPCD0YKnMBo",
    "outputId": "b41108ed-1728-4a5e-fc07-657e82dcbedd"
   },
   "outputs": [
    {
     "data": {
      "application/vnd.google.colaboratory.intrinsic+json": {
       "type": "string"
      },
      "text/plain": [
       "'Tamil: Capillaries என்பது wire bonding செயல்முறையில் பயன்படுத்தப்படும் கரெய்மிக் கருவிகள் ஆகும், அரசுச்சக உறுப்புகளுடன் செங்குத்து ஊட்டுவரிசைகள் கொண்டு உள்ளன.'"
      ]
     },
     "execution_count": 33,
     "metadata": {},
     "output_type": "execute_result"
    }
   ],
   "source": [
    "user_input = \"Capillaries என்றால் என்ன?\"\n",
    "response = rag_chain.invoke({\n",
    "    \"input\" : user_input,\n",
    "    \"chat_history\" : chat_history,\n",
    "\n",
    "})\n",
    "\n",
    "response['answer']"
   ]
  },
  {
   "cell_type": "code",
   "execution_count": 34,
   "metadata": {
    "id": "B26XqLvnMcW4"
   },
   "outputs": [],
   "source": [
    "chat_history.extend([\n",
    "    HumanMessage(content=user_input),\n",
    "    AIMessage(content=response['answer'])\n",
    "])"
   ]
  },
  {
   "cell_type": "code",
   "execution_count": 35,
   "metadata": {
    "colab": {
     "base_uri": "https://localhost:8080/",
     "height": 71
    },
    "id": "IupFVkBzMcSD",
    "outputId": "c136bd3e-87d9-477f-9333-295fa82f33e7"
   },
   "outputs": [
    {
     "data": {
      "application/vnd.google.colaboratory.intrinsic+json": {
       "type": "string"
      },
      "text/plain": [
       "'Hindi: Thermosonic bonding में low pressure और ultrasonic energy का उपयोग होता है, और तापमान 100-150°C के बीच रखा जाता है। इस प्रक्रिया में मुख्य रूप से गोल्ड (Gold) वायर का उपयोग होता है। इसे thermosonic कहा जाता है क्योंकि इसमें heat और ultrasonic energy दोनों का प्रयोग होता है।'"
      ]
     },
     "execution_count": 35,
     "metadata": {},
     "output_type": "execute_result"
    }
   ],
   "source": [
    "user_input = \"मुझे thermosonic bonding के बारे में बताएं??\"\n",
    "\n",
    "response = rag_chain.invoke({\n",
    "    \"input\" : user_input,\n",
    "    \"chat_history\" : chat_history,\n",
    "\n",
    "})\n",
    "\n",
    "response['answer']"
   ]
  },
  {
   "cell_type": "code",
   "execution_count": 36,
   "metadata": {
    "colab": {
     "base_uri": "https://localhost:8080/",
     "height": 53
    },
    "id": "Y4uK0PhnMcPt",
    "outputId": "87e931ab-0af8-4e17-abb6-b28f7282d663"
   },
   "outputs": [
    {
     "data": {
      "application/vnd.google.colaboratory.intrinsic+json": {
       "type": "string"
      },
      "text/plain": [
       "'Gujarati: Thermosonic bonding માં નીચા દબાણ અને અલ્ટ્રાસોનીક એનર્જી સાથે 100-150°C ના તાપમાને ગોલ્ડ વાયર નો ઉપયોગ થાય છે. DLI Thermosonic માટે તાપમાન 100-240°C પણ હોઇ શકે છે.'"
      ]
     },
     "execution_count": 36,
     "metadata": {},
     "output_type": "execute_result"
    }
   ],
   "source": [
    "user_input = \"મને Thermosonic bonding વિશે કહો?\"\n",
    "\n",
    "response = rag_chain.invoke({\n",
    "    \"input\" : user_input,\n",
    "    \"chat_history\" : chat_history,\n",
    "\n",
    "})\n",
    "\n",
    "response['answer']"
   ]
  },
  {
   "cell_type": "code",
   "execution_count": 37,
   "metadata": {
    "colab": {
     "base_uri": "https://localhost:8080/"
    },
    "id": "i4a4_jmUPsjI",
    "outputId": "0402a18f-e41a-4c77-8a08-bbbaaa178142"
   },
   "outputs": [
    {
     "name": "stdout",
     "output_type": "stream",
     "text": [
      "Language = Gujarati\n",
      "result = Thermosonic bonding માં નીચા દબાણ અને અલ્ટ્રાસોનીક એનર્જી સાથે 100-150°C ના તાપમાને ગોલ્ડ વાયર નો ઉપયોગ થાય છે. DLI Thermosonic માટે તાપમાન 100-240°C પણ હોઇ શકે છે.\n"
     ]
    }
   ],
   "source": [
    "import re\n",
    "\n",
    "# Input string\n",
    "input_text = response['answer']\n",
    "\n",
    "# Regular expression to split text before and after the colon\n",
    "match = re.match(r\"([^:]+):\\s*(.*)\", input_text)\n",
    "\n",
    "if match:\n",
    "    language = match.group(1)  # Text before the colon\n",
    "    result = match.group(2)    # Text after the colon\n",
    "\n",
    "    print(f\"Language = {language}\")\n",
    "    print(f\"result = {result}\")\n",
    "else:\n",
    "    print(\"No match found\")\n"
   ]
  },
  {
   "cell_type": "code",
   "execution_count": 37,
   "metadata": {
    "id": "NZQ17hHAd1zV"
   },
   "outputs": [],
   "source": []
  }
 ],
 "metadata": {
  "colab": {
   "provenance": []
  },
  "kernelspec": {
   "display_name": "Python 3",
   "name": "python3"
  },
  "language_info": {
   "name": "python"
  }
 },
 "nbformat": 4,
 "nbformat_minor": 0
}
