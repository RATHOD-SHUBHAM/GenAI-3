{
 "cells": [
  {
   "cell_type": "markdown",
   "metadata": {
    "id": "QZadcmLdRcMq"
   },
   "source": [
    "# TTS Eleven Lab"
   ]
  },
  {
   "cell_type": "code",
   "execution_count": 40,
   "metadata": {
    "colab": {
     "base_uri": "https://localhost:8080/"
    },
    "id": "irWeqH9Ad_XO",
    "outputId": "b20ad7ea-3500-46be-de92-b875389b1f25"
   },
   "outputs": [
    {
     "name": "stdout",
     "output_type": "stream",
     "text": [
      "Collecting elevenlabs\n",
      "  Downloading elevenlabs-1.12.1-py3-none-any.whl.metadata (8.0 kB)\n",
      "Requirement already satisfied: httpx>=0.21.2 in /usr/local/lib/python3.10/dist-packages (from elevenlabs) (0.27.2)\n",
      "Requirement already satisfied: pydantic>=1.9.2 in /usr/local/lib/python3.10/dist-packages (from elevenlabs) (2.9.2)\n",
      "Requirement already satisfied: pydantic-core<3.0.0,>=2.18.2 in /usr/local/lib/python3.10/dist-packages (from elevenlabs) (2.23.4)\n",
      "Requirement already satisfied: requests>=2.20 in /usr/local/lib/python3.10/dist-packages (from elevenlabs) (2.32.3)\n",
      "Requirement already satisfied: typing_extensions>=4.0.0 in /usr/local/lib/python3.10/dist-packages (from elevenlabs) (4.12.2)\n",
      "Requirement already satisfied: websockets>=11.0 in /usr/local/lib/python3.10/dist-packages (from elevenlabs) (14.0)\n",
      "Requirement already satisfied: anyio in /usr/local/lib/python3.10/dist-packages (from httpx>=0.21.2->elevenlabs) (3.7.1)\n",
      "Requirement already satisfied: certifi in /usr/local/lib/python3.10/dist-packages (from httpx>=0.21.2->elevenlabs) (2024.8.30)\n",
      "Requirement already satisfied: httpcore==1.* in /usr/local/lib/python3.10/dist-packages (from httpx>=0.21.2->elevenlabs) (1.0.6)\n",
      "Requirement already satisfied: idna in /usr/local/lib/python3.10/dist-packages (from httpx>=0.21.2->elevenlabs) (3.10)\n",
      "Requirement already satisfied: sniffio in /usr/local/lib/python3.10/dist-packages (from httpx>=0.21.2->elevenlabs) (1.3.1)\n",
      "Requirement already satisfied: h11<0.15,>=0.13 in /usr/local/lib/python3.10/dist-packages (from httpcore==1.*->httpx>=0.21.2->elevenlabs) (0.14.0)\n",
      "Requirement already satisfied: annotated-types>=0.6.0 in /usr/local/lib/python3.10/dist-packages (from pydantic>=1.9.2->elevenlabs) (0.7.0)\n",
      "Requirement already satisfied: charset-normalizer<4,>=2 in /usr/local/lib/python3.10/dist-packages (from requests>=2.20->elevenlabs) (3.4.0)\n",
      "Requirement already satisfied: urllib3<3,>=1.21.1 in /usr/local/lib/python3.10/dist-packages (from requests>=2.20->elevenlabs) (2.2.3)\n",
      "Requirement already satisfied: exceptiongroup in /usr/local/lib/python3.10/dist-packages (from anyio->httpx>=0.21.2->elevenlabs) (1.2.2)\n",
      "Downloading elevenlabs-1.12.1-py3-none-any.whl (150 kB)\n",
      "\u001b[?25l   \u001b[90m━━━━━━━━━━━━━━━━━━━━━━━━━━━━━━━━━━━━━━━━\u001b[0m \u001b[32m0.0/150.5 kB\u001b[0m \u001b[31m?\u001b[0m eta \u001b[36m-:--:--\u001b[0m\r\u001b[2K   \u001b[91m━━━━━━━━━━━━━━━━━━━━━━━━━━━━━━━━━━━━━━\u001b[0m\u001b[90m╺\u001b[0m\u001b[90m━\u001b[0m \u001b[32m143.4/150.5 kB\u001b[0m \u001b[31m4.2 MB/s\u001b[0m eta \u001b[36m0:00:01\u001b[0m\r\u001b[2K   \u001b[90m━━━━━━━━━━━━━━━━━━━━━━━━━━━━━━━━━━━━━━━━\u001b[0m \u001b[32m150.5/150.5 kB\u001b[0m \u001b[31m3.0 MB/s\u001b[0m eta \u001b[36m0:00:00\u001b[0m\n",
      "\u001b[?25hInstalling collected packages: elevenlabs\n",
      "Successfully installed elevenlabs-1.12.1\n"
     ]
    }
   ],
   "source": [
    "!pip install elevenlabs"
   ]
  },
  {
   "cell_type": "code",
   "execution_count": null,
   "metadata": {
    "id": "p9W2efhhkveJ"
   },
   "outputs": [],
   "source": []
  },
  {
   "cell_type": "code",
   "execution_count": null,
   "metadata": {
    "id": "sr5cpwZkr1Bl"
   },
   "outputs": [],
   "source": []
  },
  {
   "cell_type": "markdown",
   "metadata": {
    "id": "1yoxBszvkkCH"
   },
   "source": [
    "# Hindi"
   ]
  },
  {
   "cell_type": "markdown",
   "metadata": {
    "id": "99vHjyNnr1Uq"
   },
   "source": [
    "# [Voice Preview](https://elevenlabs.io/docs/api-reference/ttv-create-previews)"
   ]
  },
  {
   "cell_type": "code",
   "execution_count": null,
   "metadata": {
    "id": "7W0ihiOfbidx"
   },
   "outputs": [],
   "source": [
    "from elevenlabs import ElevenLabs\n",
    "\n",
    "client = ElevenLabs(\n",
    "    api_key=\"\",\n",
    ")\n",
    "\n",
    "result = client.text_to_voice.create_previews(\n",
    "    voice_description=\"Hindi Accent speaking Women Voice\",\n",
    "    text=\"Thermosonic bonding एक प्रोसेस है जिसमें लो प्रेशर, 100-150°C तापमान और ultrasonic energy का उपयोग होता है। इसमें मुख्यत: gold वायर का प्रयोग किया जाता है। इस प्रोसेस में हीट और ultrasonic energy की मदद से वायर और पैड सरफेस के बीच एक मजबूत बॉन्ड बनता है।\",\n",
    ")"
   ]
  },
  {
   "cell_type": "markdown",
   "metadata": {
    "id": "fsC3Rgwqe3SP"
   },
   "source": [
    "# Test Voice Preview"
   ]
  },
  {
   "cell_type": "code",
   "execution_count": null,
   "metadata": {
    "id": "LeNfST5Ge2-A"
   },
   "outputs": [],
   "source": [
    "import base64\n",
    "\n",
    "def save_audio(base64_audio, output_file_path):\n",
    "    # Decode the base64 string to binary audio data\n",
    "    audio_data = base64.b64decode(base64_audio)\n",
    "\n",
    "    # Save the binary data as an mp3 file\n",
    "    with open(output_file_path, \"wb\") as file:\n",
    "        file.write(audio_data)\n",
    "\n",
    "# Example usage:\n",
    "base64_audio = result.previews[0].audio_base_64  # Replace with your base64 string\n",
    "output_file_path = \"output_audio.mp3\"           # Define the output file name\n",
    "\n",
    "save_audio(base64_audio, output_file_path)\n",
    "print(\"Audio file saved successfully.\")\n"
   ]
  },
  {
   "cell_type": "markdown",
   "metadata": {
    "id": "bTDIr_3FewqQ"
   },
   "source": [
    "# Create Voice From Voice Preview"
   ]
  },
  {
   "cell_type": "code",
   "execution_count": null,
   "metadata": {
    "id": "G6H1ZrOOSfyU"
   },
   "outputs": [],
   "source": [
    "import requests\n",
    "\n",
    "url = \"https://api.elevenlabs.io/v1/text-to-voice/create-voice-from-preview\"\n",
    "\n",
    "payload = {\n",
    "    \"voice_name\": \"Hindi Women\",\n",
    "    \"voice_description\": \"Hindi Accent speaking Women Voice\",\n",
    "    \"generated_voice_id\": \"uFVBGTRKSzdZBQUYKYgh\",\n",
    "    \"labels\": {\"language\": \"en\"},\n",
    "    \"played_not_selected_voice_ids\": [\"<string>\"]\n",
    "}\n",
    "headers = {\n",
    "    \"xi-api-key\": \"\",\n",
    "    \"Content-Type\": \"application/json\"\n",
    "}\n",
    "\n",
    "response = requests.request(\"POST\", url, json=payload, headers=headers)\n",
    "\n",
    "print(response.text)"
   ]
  },
  {
   "cell_type": "markdown",
   "metadata": {
    "id": "nf1oxfiKSV6N"
   },
   "source": [
    "# Hindi\n",
    "\n",
    "# \"generated_voice_id\": \"uFVBGTRKSzdZBQUYKYgh\""
   ]
  },
  {
   "cell_type": "code",
   "execution_count": null,
   "metadata": {
    "colab": {
     "base_uri": "https://localhost:8080/"
    },
    "id": "RQvFgLuXb8uA",
    "outputId": "886544eb-f0ad-40e5-ee38-efc737607d45"
   },
   "outputs": [
    {
     "name": "stdout",
     "output_type": "stream",
     "text": [
      "A new audio file was saved successfully at 13a42c2b-67a7-4c71-b320-3f7c7f813e95.mp3\n"
     ]
    }
   ],
   "source": [
    "import os\n",
    "import uuid\n",
    "\n",
    "from dotenv import load_dotenv\n",
    "from elevenlabs import VoiceSettings\n",
    "from elevenlabs.client import ElevenLabs\n",
    "\n",
    "load_dotenv()\n",
    "\n",
    "ELEVENLABS_API_KEY = \"\"\n",
    "\n",
    "if not ELEVENLABS_API_KEY:\n",
    "    raise ValueError(\"ELEVENLABS_API_KEY environment variable not set\")\n",
    "\n",
    "client = ElevenLabs(\n",
    "    api_key=ELEVENLABS_API_KEY,\n",
    ")\n",
    "\n",
    "\n",
    "def text_to_speech_file(text: str) -> str:\n",
    "    \"\"\"\n",
    "    Converts text to speech and saves the output as an MP3 file.\n",
    "\n",
    "    This function uses a specific client for text-to-speech conversion. It configures\n",
    "    various parameters for the voice output and saves the resulting audio stream to an\n",
    "    MP3 file with a unique name.\n",
    "\n",
    "    Args:\n",
    "        text (str): The text content to convert to speech.\n",
    "\n",
    "    Returns:\n",
    "        str: The file path where the audio file has been saved.\n",
    "    \"\"\"\n",
    "    # Calling the text_to_speech conversion API with detailed parameters\n",
    "    response = client.text_to_speech.convert(\n",
    "        voice_id=\"uFVBGTRKSzdZBQUYKYgh\",  # pre-made voice\n",
    "        optimize_streaming_latency=\"0\",\n",
    "        output_format=\"mp3_22050_32\",\n",
    "        text=text,\n",
    "        model_id=\"eleven_multilingual_v2\",  # use the turbo model for low latency, for other languages use the `eleven_multilingual_v2`\n",
    "        voice_settings=VoiceSettings(\n",
    "            stability=0.0,\n",
    "            similarity_boost=1.0,\n",
    "            style=0.0,\n",
    "            use_speaker_boost=True,\n",
    "        ),\n",
    "    )\n",
    "\n",
    "    # Generating a unique file name for the output MP3 file\n",
    "    save_file_path = f\"{uuid.uuid4()}.mp3\"\n",
    "    # Writing the audio stream to the file\n",
    "\n",
    "    with open(save_file_path, \"wb\") as f:\n",
    "        for chunk in response:\n",
    "            if chunk:\n",
    "                f.write(chunk)\n",
    "\n",
    "    print(f\"A new audio file was saved successfully at {save_file_path}\")\n",
    "\n",
    "    # Return the path of the saved audio file\n",
    "    return save_file_path\n",
    "\n",
    "\n",
    "if __name__ == \"__main__\":\n",
    "    text_to_speech_file(\"Thermosonic bonding में low pressure और ultrasonic energy का उपयोग होता है, और तापमान 100-150°C के बीच रखा जाता है। इस प्रक्रिया में मुख्य रूप से गोल्ड (Gold) वायर का उपयोग होता है। इसे thermosonic कहा जाता है क्योंकि इसमें heat और ultrasonic energy दोनों का प्रयोग होता है।\")"
   ]
  },
  {
   "cell_type": "code",
   "execution_count": null,
   "metadata": {
    "id": "oBjMLyw-b8lJ"
   },
   "outputs": [],
   "source": []
  },
  {
   "cell_type": "markdown",
   "metadata": {
    "id": "RnRfRq5vk0kX"
   },
   "source": [
    "# Tamil"
   ]
  },
  {
   "cell_type": "markdown",
   "metadata": {
    "id": "lNGblxsrk5Rt"
   },
   "source": [
    "Voice Preview."
   ]
  },
  {
   "cell_type": "code",
   "execution_count": null,
   "metadata": {
    "id": "jre-nnn1k2Pb"
   },
   "outputs": [],
   "source": [
    "from elevenlabs import ElevenLabs\n",
    "\n",
    "client = ElevenLabs(\n",
    "    api_key=\"\",\n",
    ")\n",
    "\n",
    "result = client.text_to_voice.create_previews(\n",
    "    voice_description=\"Tamil Accent speaking Man Voice\",\n",
    "    text=\"Capillaries என்பது ball bonding செயலில் பயன்படுத்தப்படும் கருவிகள். இவை சிமெட்ரிக் செராமிக் கருவிகள் ஆகும், மற்றும் இவற்றில் wire feed க்கென செங்குத்து துளைகள் உள்ளன.\",\n",
    ")"
   ]
  },
  {
   "cell_type": "code",
   "execution_count": null,
   "metadata": {
    "id": "0U0dtDUWk2J3"
   },
   "outputs": [],
   "source": [
    "result"
   ]
  },
  {
   "cell_type": "code",
   "execution_count": null,
   "metadata": {
    "id": "r9pDCOjpq-Uf"
   },
   "outputs": [],
   "source": [
    "import base64\n",
    "\n",
    "def save_audio(base64_audio, output_file_path):\n",
    "    # Decode the base64 string to binary audio data\n",
    "    audio_data = base64.b64decode(base64_audio)\n",
    "\n",
    "    # Save the binary data as an mp3 file\n",
    "    with open(output_file_path, \"wb\") as file:\n",
    "        file.write(audio_data)\n",
    "\n",
    "# Example usage:\n",
    "base64_audio = result.previews[1].audio_base_64  # Replace with your base64 string\n",
    "output_file_path = \"output_audio.mp3\"           # Define the output file name\n",
    "\n",
    "save_audio(base64_audio, output_file_path)\n",
    "print(\"Audio file saved successfully.\")\n"
   ]
  },
  {
   "cell_type": "markdown",
   "metadata": {
    "id": "TAVs2UGBl6Gb"
   },
   "source": [
    "## Create Voice Preview."
   ]
  },
  {
   "cell_type": "code",
   "execution_count": null,
   "metadata": {
    "id": "NqrGTsHXlR5I"
   },
   "outputs": [],
   "source": [
    "import requests\n",
    "\n",
    "url = \"https://api.elevenlabs.io/v1/text-to-voice/create-voice-from-preview\"\n",
    "\n",
    "payload = {\n",
    "    \"voice_name\": \"Tamil Man\",\n",
    "    \"voice_description\": \"Tamil Accent speaking Man Voice\",\n",
    "    \"generated_voice_id\": \"rCMFYWqel8FHSoyDPTpv\",\n",
    "    \"labels\": {\"language\": \"en\"},\n",
    "    \"played_not_selected_voice_ids\": [\"<string>\"]\n",
    "}\n",
    "headers = {\n",
    "    \"xi-api-key\": \"\",\n",
    "    \"Content-Type\": \"application/json\"\n",
    "}\n",
    "\n",
    "response = requests.request(\"POST\", url, json=payload, headers=headers)\n",
    "\n",
    "print(response.text)"
   ]
  },
  {
   "cell_type": "markdown",
   "metadata": {
    "id": "IRulgqpwmGof"
   },
   "source": [
    "# TAMIL: \"voice_id\":\"rCMFYWqel8FHSoyDPTpv\""
   ]
  },
  {
   "cell_type": "code",
   "execution_count": null,
   "metadata": {
    "id": "XtrWKMpPrfOH"
   },
   "outputs": [],
   "source": [
    "import os\n",
    "import uuid\n",
    "\n",
    "from dotenv import load_dotenv\n",
    "from elevenlabs import VoiceSettings\n",
    "from elevenlabs.client import ElevenLabs\n",
    "\n",
    "load_dotenv()\n",
    "\n",
    "ELEVENLABS_API_KEY = \"\"\n",
    "\n",
    "if not ELEVENLABS_API_KEY:\n",
    "    raise ValueError(\"ELEVENLABS_API_KEY environment variable not set\")\n",
    "\n",
    "client = ElevenLabs(\n",
    "    api_key=ELEVENLABS_API_KEY,\n",
    ")\n",
    "\n",
    "\n",
    "def text_to_speech_file(text: str) -> str:\n",
    "    \"\"\"\n",
    "    Converts text to speech and saves the output as an MP3 file.\n",
    "\n",
    "    This function uses a specific client for text-to-speech conversion. It configures\n",
    "    various parameters for the voice output and saves the resulting audio stream to an\n",
    "    MP3 file with a unique name.\n",
    "\n",
    "    Args:\n",
    "        text (str): The text content to convert to speech.\n",
    "\n",
    "    Returns:\n",
    "        str: The file path where the audio file has been saved.\n",
    "    \"\"\"\n",
    "    # Calling the text_to_speech conversion API with detailed parameters\n",
    "    response = client.text_to_speech.convert(\n",
    "        voice_id=\"EVL7m7geFc0iIITWhlsA\",\n",
    "        optimize_streaming_latency=\"0\",\n",
    "        output_format=\"mp3_22050_32\",\n",
    "        text=text,\n",
    "        model_id=\"eleven_multilingual_v2\",  # use the turbo model for low latency, for other languages use the `eleven_multilingual_v2`\n",
    "        voice_settings=VoiceSettings(\n",
    "            stability=0.0,\n",
    "            similarity_boost=1.0,\n",
    "            style=0.0,\n",
    "            use_speaker_boost=True,\n",
    "        ),\n",
    "    )\n",
    "\n",
    "    # Generating a unique file name for the output MP3 file\n",
    "    save_file_path = f\"{uuid.uuid4()}.mp3\"\n",
    "    # Writing the audio stream to the file\n",
    "\n",
    "    with open(save_file_path, \"wb\") as f:\n",
    "        for chunk in response:\n",
    "            if chunk:\n",
    "                f.write(chunk)\n",
    "\n",
    "    print(f\"A new audio file was saved successfully at {save_file_path}\")\n",
    "\n",
    "    # Return the path of the saved audio file\n",
    "    return save_file_path\n",
    "\n",
    "\n",
    "if __name__ == \"__main__\":\n",
    "    text_to_speech_file(\"Capillaries என்பது ball bonding செயலில் பயன்படுத்தப்படும் கருவிகள். இவை சிமெட்ரிக் செராமிக் கருவிகள் ஆகும், மற்றும் இவற்றில் wire feed க்கென செங்குத்து துளைகள் உள்ளன.\")"
   ]
  },
  {
   "cell_type": "code",
   "execution_count": null,
   "metadata": {
    "id": "A6iPy45Wtr-8"
   },
   "outputs": [],
   "source": []
  },
  {
   "cell_type": "markdown",
   "metadata": {
    "id": "ZjDNKN_Cmt5A"
   },
   "source": [
    "# Gujarati\n"
   ]
  },
  {
   "cell_type": "markdown",
   "metadata": {
    "id": "-44J7oDDmxqK"
   },
   "source": [
    "Voice Preview"
   ]
  },
  {
   "cell_type": "code",
   "execution_count": null,
   "metadata": {
    "id": "57lqyrPDmvBw"
   },
   "outputs": [],
   "source": [
    "from elevenlabs import ElevenLabs\n",
    "\n",
    "client = ElevenLabs(\n",
    "    api_key=\"\",\n",
    ")\n",
    "\n",
    "result = client.text_to_voice.create_previews(\n",
    "    voice_description=\"Gujarati Accent speaking female Voice\",\n",
    "    text=\"Thermosonic bondingમાં low pressure અને ultrasonic energy સાથે gold wireનો ઉપયોગ થાય છે. આ પ્રોસેસમાં તાપમાન લગભગ 100-150°C હોય છે. આ કારણે bond મજબૂત અને reliable બને છે.\",\n",
    ")"
   ]
  },
  {
   "cell_type": "code",
   "execution_count": null,
   "metadata": {
    "id": "LwYWDjbwm8Ww"
   },
   "outputs": [],
   "source": [
    "result"
   ]
  },
  {
   "cell_type": "code",
   "execution_count": null,
   "metadata": {
    "id": "LWUJc1A8m9Q6"
   },
   "outputs": [],
   "source": [
    "import base64\n",
    "\n",
    "def save_audio(base64_audio, output_file_path):\n",
    "    # Decode the base64 string to binary audio data\n",
    "    audio_data = base64.b64decode(base64_audio)\n",
    "\n",
    "    # Save the binary data as an mp3 file\n",
    "    with open(output_file_path, \"wb\") as file:\n",
    "        file.write(audio_data)\n",
    "\n",
    "# Example usage:\n",
    "base64_audio = result.previews[2].audio_base_64  # Replace with your base64 string\n",
    "output_file_path = \"output_audio.mp3\"           # Define the output file name\n",
    "\n",
    "save_audio(base64_audio, output_file_path)\n",
    "print(\"Audio file saved successfully.\")\n"
   ]
  },
  {
   "cell_type": "markdown",
   "metadata": {
    "id": "_Z7cZFLToP34"
   },
   "source": [
    "# Create Voice Preview"
   ]
  },
  {
   "cell_type": "code",
   "execution_count": null,
   "metadata": {
    "id": "Nt8IO-1YnCMd"
   },
   "outputs": [],
   "source": [
    "import requests\n",
    "\n",
    "url = \"https://api.elevenlabs.io/v1/text-to-voice/create-voice-from-preview\"\n",
    "\n",
    "payload = {\n",
    "    \"voice_name\": \"Gujarati Women\",\n",
    "    \"voice_description\": \"Gujarati Accent speaking Women Voice\",\n",
    "    \"generated_voice_id\": \"Ks9asPDeW0dGgmCdMIB6\",\n",
    "    \"labels\": {\"language\": \"en\"},\n",
    "    \"played_not_selected_voice_ids\": [\"<string>\"]\n",
    "}\n",
    "headers = {\n",
    "    \"xi-api-key\": \"\",\n",
    "    \"Content-Type\": \"application/json\"\n",
    "}\n",
    "\n",
    "response = requests.request(\"POST\", url, json=payload, headers=headers)\n",
    "\n",
    "print(response.text)"
   ]
  },
  {
   "cell_type": "markdown",
   "metadata": {
    "id": "JtLIqAXEoqws"
   },
   "source": [
    "# Gujarati Voice: generated_voice_id='Ks9asPDeW0dGgmCdMIB6'"
   ]
  },
  {
   "cell_type": "code",
   "execution_count": null,
   "metadata": {
    "id": "0NZ8Flj4ovel"
   },
   "outputs": [],
   "source": [
    "import os\n",
    "import uuid\n",
    "\n",
    "from dotenv import load_dotenv\n",
    "from elevenlabs import VoiceSettings\n",
    "from elevenlabs.client import ElevenLabs\n",
    "\n",
    "load_dotenv()\n",
    "\n",
    "ELEVENLABS_API_KEY = \"\"\n",
    "\n",
    "if not ELEVENLABS_API_KEY:\n",
    "    raise ValueError(\"ELEVENLABS_API_KEY environment variable not set\")\n",
    "\n",
    "client = ElevenLabs(\n",
    "    api_key=ELEVENLABS_API_KEY,\n",
    ")\n",
    "\n",
    "\n",
    "def text_to_speech_file(text: str) -> str:\n",
    "    \"\"\"\n",
    "    Converts text to speech and saves the output as an MP3 file.\n",
    "\n",
    "    This function uses a specific client for text-to-speech conversion. It configures\n",
    "    various parameters for the voice output and saves the resulting audio stream to an\n",
    "    MP3 file with a unique name.\n",
    "\n",
    "    Args:\n",
    "        text (str): The text content to convert to speech.\n",
    "\n",
    "    Returns:\n",
    "        str: The file path where the audio file has been saved.\n",
    "    \"\"\"\n",
    "    # Calling the text_to_speech conversion API with detailed parameters\n",
    "    response = client.text_to_speech.convert(\n",
    "        voice_id=\"Ks9asPDeW0dGgmCdMIB6\",\n",
    "        optimize_streaming_latency=\"0\",\n",
    "        output_format=\"mp3_22050_32\",\n",
    "        text=text,\n",
    "        model_id=\"eleven_multilingual_v2\",  # use the turbo model for low latency, for other languages use the `eleven_multilingual_v2`\n",
    "        voice_settings=VoiceSettings(\n",
    "            stability=0.0,\n",
    "            similarity_boost=1.0,\n",
    "            style=0.0,\n",
    "            use_speaker_boost=True,\n",
    "        ),\n",
    "    )\n",
    "\n",
    "    # Generating a unique file name for the output MP3 file\n",
    "    save_file_path = f\"{uuid.uuid4()}.mp3\"\n",
    "    # Writing the audio stream to the file\n",
    "\n",
    "    with open(save_file_path, \"wb\") as f:\n",
    "        for chunk in response:\n",
    "            if chunk:\n",
    "                f.write(chunk)\n",
    "\n",
    "    print(f\"A new audio file was saved successfully at {save_file_path}\")\n",
    "\n",
    "    # Return the path of the saved audio file\n",
    "    return save_file_path\n",
    "\n",
    "\n",
    "if __name__ == \"__main__\":\n",
    "    text_to_speech_file(\"Thermosonic bondingમાં low pressure અને ultrasonic energy સાથે gold wireનો ઉપયોગ થાય છે. આ પ્રોસેસમાં તાપમાન લગભગ 100-150°C હોય છે. આ કારણે bond મજબૂત અને reliable બને છે.\")"
   ]
  },
  {
   "cell_type": "code",
   "execution_count": null,
   "metadata": {
    "id": "hTIV9CadpIGB"
   },
   "outputs": [],
   "source": []
  },
  {
   "cell_type": "markdown",
   "metadata": {
    "id": "eNB8JQyop6F_"
   },
   "source": [
    "# English"
   ]
  },
  {
   "cell_type": "code",
   "execution_count": null,
   "metadata": {
    "id": "i_S-0nhNp7C7"
   },
   "outputs": [],
   "source": [
    "import os\n",
    "import uuid\n",
    "\n",
    "from dotenv import load_dotenv\n",
    "from elevenlabs import VoiceSettings\n",
    "from elevenlabs.client import ElevenLabs\n",
    "\n",
    "load_dotenv()\n",
    "\n",
    "ELEVENLABS_API_KEY = \"\"\n",
    "\n",
    "if not ELEVENLABS_API_KEY:\n",
    "    raise ValueError(\"ELEVENLABS_API_KEY environment variable not set\")\n",
    "\n",
    "client = ElevenLabs(\n",
    "    api_key=ELEVENLABS_API_KEY,\n",
    ")\n",
    "\n",
    "\n",
    "def text_to_speech_file(text: str) -> str:\n",
    "    \"\"\"\n",
    "    Converts text to speech and saves the output as an MP3 file.\n",
    "\n",
    "    This function uses a specific client for text-to-speech conversion. It configures\n",
    "    various parameters for the voice output and saves the resulting audio stream to an\n",
    "    MP3 file with a unique name.\n",
    "\n",
    "    Args:\n",
    "        text (str): The text content to convert to speech.\n",
    "\n",
    "    Returns:\n",
    "        str: The file path where the audio file has been saved.\n",
    "    \"\"\"\n",
    "    # Calling the text_to_speech conversion API with detailed parameters\n",
    "    response = client.text_to_speech.convert(\n",
    "        voice_id=\"EXAVITQu4vr4xnSDxMaL\",  # Sarah pre-made voice\n",
    "        optimize_streaming_latency=\"0\",\n",
    "        output_format=\"mp3_22050_32\",\n",
    "        text=text,\n",
    "        model_id=\"eleven_turbo_v2\",  # use the turbo model for low latency, for other languages use the `eleven_multilingual_v2`\n",
    "        voice_settings=VoiceSettings(\n",
    "            stability=0.0,\n",
    "            similarity_boost=1.0,\n",
    "            style=0.0,\n",
    "            use_speaker_boost=True,\n",
    "        ),\n",
    "    )\n",
    "\n",
    "    # Generating a unique file name for the output MP3 file\n",
    "    save_file_path = f\"{uuid.uuid4()}.mp3\"\n",
    "    # Writing the audio stream to the file\n",
    "\n",
    "    with open(save_file_path, \"wb\") as f:\n",
    "        for chunk in response:\n",
    "            if chunk:\n",
    "                f.write(chunk)\n",
    "\n",
    "    print(f\"A new audio file was saved successfully at {save_file_path}\")\n",
    "\n",
    "    # Return the path of the saved audio file\n",
    "    return save_file_path\n",
    "\n",
    "\n",
    "if __name__ == \"__main__\":\n",
    "    text_to_speech_file(\"In ultrasonic wirebonding, low pressure and ultrasonic energy are used at a temperature of 25°C, and it can use either gold or aluminium wire. In thermosonic wirebonding, low pressure and ultrasonic energy are also used, but the temperature is higher, between 100-150°C, and it specifically uses gold wire.\")"
   ]
  },
  {
   "cell_type": "code",
   "execution_count": null,
   "metadata": {
    "id": "M3oxmIdCqKDM"
   },
   "outputs": [],
   "source": []
  }
 ],
 "metadata": {
  "colab": {
   "provenance": []
  },
  "kernelspec": {
   "display_name": "Python 3",
   "name": "python3"
  },
  "language_info": {
   "name": "python"
  }
 },
 "nbformat": 4,
 "nbformat_minor": 0
}
