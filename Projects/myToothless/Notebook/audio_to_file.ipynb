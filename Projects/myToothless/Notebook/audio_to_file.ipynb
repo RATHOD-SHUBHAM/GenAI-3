{
 "cells": [
  {
   "cell_type": "code",
   "execution_count": null,
   "id": "9f7c6c06-d316-469e-bea9-260fde598424",
   "metadata": {},
   "outputs": [],
   "source": [
    "# https://picovoice.ai/blog/how-to-record-audio-using-python/"
   ]
  },
  {
   "cell_type": "code",
   "execution_count": null,
   "id": "7b7e0749-eaab-4c4d-9424-3e06e168d4be",
   "metadata": {},
   "outputs": [],
   "source": [
    "!pip install pvrecorder"
   ]
  },
  {
   "cell_type": "code",
   "execution_count": null,
   "id": "c900ef31-ba09-4b21-af40-f1b501a319f0",
   "metadata": {},
   "outputs": [],
   "source": [
    "from pvrecorder import PvRecorder\n",
    "import wave, struct "
   ]
  },
  {
   "cell_type": "code",
   "execution_count": null,
   "id": "49280d95-ebdc-4783-9830-871eae0e173d",
   "metadata": {},
   "outputs": [],
   "source": [
    "#load all audio input devices \n",
    "\n",
    "for index, device in enumerate(PvRecorder.get_available_devices()):\n",
    "    print(f\"[{index}] {device}\")"
   ]
  },
  {
   "cell_type": "code",
   "execution_count": null,
   "id": "13b3f2d2-34b5-48ad-8100-36f710a2df67",
   "metadata": {},
   "outputs": [],
   "source": [
    "recorder = PvRecorder(device_index=0, frame_length=512) #(32 milliseconds of 16 kHz audio)\n",
    "audio = []\n",
    "path = 'audio_recording.wav'"
   ]
  },
  {
   "cell_type": "code",
   "execution_count": null,
   "id": "d9f0ee0c-d123-4385-9d6c-149be292df1e",
   "metadata": {},
   "outputs": [],
   "source": [
    "try:\n",
    "    recorder.start()\n",
    "    while True:\n",
    "        frame = recorder.read()\n",
    "        audio.extend(frame)\n",
    "except KeyboardInterrupt:\n",
    "    recorder.stop()\n",
    "    with wave.open(path, 'w') as f:\n",
    "        f.setparams((1, 2, 16000, 512, \"NONE\", \"NONE\"))\n",
    "        f.writeframes(struct.pack(\"h\" * len(audio), *audio))\n",
    "finally:\n",
    "    recorder.delete()"
   ]
  },
  {
   "cell_type": "code",
   "execution_count": null,
   "id": "591df23a-e768-4c25-a80e-f300c67fb20a",
   "metadata": {},
   "outputs": [],
   "source": []
  }
 ],
 "metadata": {
  "kernelspec": {
   "display_name": "mytooth",
   "language": "python",
   "name": "mytooth"
  },
  "language_info": {
   "codemirror_mode": {
    "name": "ipython",
    "version": 3
   },
   "file_extension": ".py",
   "mimetype": "text/x-python",
   "name": "python",
   "nbconvert_exporter": "python",
   "pygments_lexer": "ipython3",
   "version": "3.10.14"
  }
 },
 "nbformat": 4,
 "nbformat_minor": 5
}
