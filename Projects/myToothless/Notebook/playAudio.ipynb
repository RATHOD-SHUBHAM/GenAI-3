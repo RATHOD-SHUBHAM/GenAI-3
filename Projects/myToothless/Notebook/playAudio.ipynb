{
 "cells": [
  {
   "cell_type": "code",
   "execution_count": 14,
   "id": "db58c4dd-9a7c-4920-b708-0636cc7ff9e6",
   "metadata": {},
   "outputs": [],
   "source": [
    "import os\n",
    "HOME = os.getcwd()"
   ]
  },
  {
   "cell_type": "code",
   "execution_count": 17,
   "id": "88e01645-b94c-4192-9043-3bf10bc9057d",
   "metadata": {},
   "outputs": [],
   "source": [
    "import subprocess\n",
    "audio_file = f'{HOME}/audio_recording.wav'\n",
    "\n",
    "return_code = subprocess.call([\"afplay\", audio_file])\n"
   ]
  },
  {
   "cell_type": "code",
   "execution_count": null,
   "id": "0f78a8b9-1b9f-46fc-8c48-c71d5c1ee0fe",
   "metadata": {},
   "outputs": [],
   "source": []
  }
 ],
 "metadata": {
  "kernelspec": {
   "display_name": "mytooth",
   "language": "python",
   "name": "mytooth"
  },
  "language_info": {
   "codemirror_mode": {
    "name": "ipython",
    "version": 3
   },
   "file_extension": ".py",
   "mimetype": "text/x-python",
   "name": "python",
   "nbconvert_exporter": "python",
   "pygments_lexer": "ipython3",
   "version": "3.10.14"
  }
 },
 "nbformat": 4,
 "nbformat_minor": 5
}
