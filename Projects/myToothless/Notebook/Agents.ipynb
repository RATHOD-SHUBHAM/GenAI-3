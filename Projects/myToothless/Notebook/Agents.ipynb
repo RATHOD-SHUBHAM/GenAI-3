{
 "cells": [
  {
   "cell_type": "code",
   "execution_count": 1,
   "id": "029f4452-965b-4f1e-895a-ec562c97bb80",
   "metadata": {},
   "outputs": [
    {
     "name": "stdout",
     "output_type": "stream",
     "text": [
      "\u001b[31mERROR: Could not find a version that satisfies the requirement install (from versions: none)\u001b[0m\u001b[31m\n",
      "\u001b[0m\u001b[31mERROR: No matching distribution found for install\u001b[0m\u001b[31m\n",
      "\u001b[0mNote: you may need to restart the kernel to use updated packages.\n"
     ]
    }
   ],
   "source": [
    "%pip install -qU langchain langchain-core langchain-community langchain-core langchain-openai pyowm google-search-results"
   ]
  },
  {
   "cell_type": "code",
   "execution_count": 37,
   "id": "96014a06-bc1e-4a6b-9ba2-05a33b092393",
   "metadata": {},
   "outputs": [],
   "source": [
    "import os\n",
    "\n",
    "from langchain_community.utilities import OpenWeatherMapAPIWrapper\n",
    "\n",
    "os.environ[\"OPENWEATHERMAP_API_KEY\"] = \"YOUR_API\"\n",
    "\n",
    "weather = OpenWeatherMapAPIWrapper()"
   ]
  },
  {
   "cell_type": "code",
   "execution_count": 38,
   "id": "f95b9f6c-6710-43f3-bf86-aab686d088ee",
   "metadata": {},
   "outputs": [
    {
     "name": "stdout",
     "output_type": "stream",
     "text": [
      "In Michigan, USA, the current weather is as follows:\n",
      "Detailed status: overcast clouds\n",
      "Wind speed: 2.57 m/s, direction: 320°\n",
      "Humidity: 94%\n",
      "Temperature: \n",
      "  - Current: 20.04°C\n",
      "  - High: 20.04°C\n",
      "  - Low: 20.04°C\n",
      "  - Feels like: 20.55°C\n",
      "Rain: {}\n",
      "Heat index: None\n",
      "Cloud cover: 100%\n"
     ]
    }
   ],
   "source": [
    "weather_data = weather.run(\"Michigan, USA\")\n",
    "print(weather_data)"
   ]
  },
  {
   "cell_type": "code",
   "execution_count": null,
   "id": "664f7c4b-0e26-430c-ac96-e4c217c42bd9",
   "metadata": {},
   "outputs": [],
   "source": []
  },
  {
   "cell_type": "code",
   "execution_count": 9,
   "id": "30ce7b39-5f5a-475a-94e2-1c2afa1af066",
   "metadata": {},
   "outputs": [
    {
     "name": "stdout",
     "output_type": "stream",
     "text": [
      "Collecting google-search-results\n",
      "  Downloading google_search_results-2.4.2.tar.gz (18 kB)\n",
      "  Preparing metadata (setup.py) ... \u001b[?25ldone\n",
      "\u001b[?25hRequirement already satisfied: requests in /opt/anaconda3/envs/mytooth/lib/python3.10/site-packages (from google-search-results) (2.32.3)\n",
      "Requirement already satisfied: charset-normalizer<4,>=2 in /opt/anaconda3/envs/mytooth/lib/python3.10/site-packages (from requests->google-search-results) (3.3.2)\n",
      "Requirement already satisfied: idna<4,>=2.5 in /opt/anaconda3/envs/mytooth/lib/python3.10/site-packages (from requests->google-search-results) (3.7)\n",
      "Requirement already satisfied: urllib3<3,>=1.21.1 in /opt/anaconda3/envs/mytooth/lib/python3.10/site-packages (from requests->google-search-results) (2.2.2)\n",
      "Requirement already satisfied: certifi>=2017.4.17 in /opt/anaconda3/envs/mytooth/lib/python3.10/site-packages (from requests->google-search-results) (2024.7.4)\n",
      "Building wheels for collected packages: google-search-results\n",
      "  Building wheel for google-search-results (setup.py) ... \u001b[?25ldone\n",
      "\u001b[?25h  Created wheel for google-search-results: filename=google_search_results-2.4.2-py3-none-any.whl size=32009 sha256=30a1a5555ae834771f4d56661595daebd7b81757acda70f3fe1d5b937ee83955\n",
      "  Stored in directory: /Users/shubhamrathod/Library/Caches/pip/wheels/d3/b2/c3/03302d12bb44a2cdff3c9371f31b72c0c4e84b8d2285eeac53\n",
      "Successfully built google-search-results\n",
      "Installing collected packages: google-search-results\n",
      "Successfully installed google-search-results-2.4.2\n"
     ]
    }
   ],
   "source": [
    "!pip install google-search-results"
   ]
  },
  {
   "cell_type": "code",
   "execution_count": 10,
   "id": "71b26c63-29ff-4966-95ec-6fbc56639cca",
   "metadata": {},
   "outputs": [],
   "source": [
    "import os\n",
    "from langchain_community.utilities import SerpAPIWrapper"
   ]
  },
  {
   "cell_type": "code",
   "execution_count": 18,
   "id": "090d343d-54fa-4f11-ac65-548442439225",
   "metadata": {},
   "outputs": [],
   "source": [
    "os.environ[\"SERPAPI_API_KEY\"] = \"YOUR_API\"\n",
    "os.environ[\"OPENAI_API_KEY\"] = 'YOUR_API'"
   ]
  },
  {
   "cell_type": "code",
   "execution_count": 15,
   "id": "7ba415a3-e162-48aa-8b28-ddc499e081d8",
   "metadata": {},
   "outputs": [],
   "source": [
    "search = SerpAPIWrapper()"
   ]
  },
  {
   "cell_type": "code",
   "execution_count": 17,
   "id": "269a921a-adef-42f2-bf70-f02cad8093a5",
   "metadata": {},
   "outputs": [
    {
     "data": {
      "text/plain": [
       "'[\\'US News provides the latest news involving your state. Explore issues including health care, education, economy, crime and corrections, and infrastructure.\\', \\'Get the latest Michigan Local News, Sports News & US breaking News. View daily MI weather updates, watch videos and photos, join the discussion in forums.\\', \\'The latest breaking news, comment and features from The Independent.\\', \\'Michigan · 5 Michigan residents arrested after methamphetamine seized in separate Port Huron drug busts · 2 killed, 4 hurt in Dearborn crash after driver loses ...\\', \\'Michigan news headlines and stories from ClickOnDetroit and WDIV Local 4.\\', \"News, analysis and commentary about the Michigan from the state\\'s largest news source, the Detroit Free Press.\", \\'Michigan gets its latest local and breaking news and analysis and in-depth coverage of state government from The Detroit News.\\', \\'We tell local Grand Rapids news & weather stories, and we do what we do to make Grand Rapids & the rest of Michigan a better place to live.\\', \"Two drivers charged with murder for Ottawa County road-rage crash that killed a third driver. Ottawa County sheriff\\'s deputies said the crash happened June 25 ...\", \\'Get the latest Detroit news, weather, traffic and more that you need throughout the day from WXYZ-TV Channel 7.\\']'"
      ]
     },
     "execution_count": 17,
     "metadata": {},
     "output_type": "execute_result"
    }
   ],
   "source": [
    "search.run(\"What the current news in michigan?\")"
   ]
  },
  {
   "cell_type": "code",
   "execution_count": 21,
   "id": "2caf011b-7f0a-4d2c-92b0-7b56508ae722",
   "metadata": {},
   "outputs": [],
   "source": [
    "from langchain.agents import AgentType, initialize_agent, load_tools\n",
    "from langchain_openai import OpenAI"
   ]
  },
  {
   "cell_type": "code",
   "execution_count": 41,
   "id": "002c3db8-c130-4561-bb4f-d4c720df0e3f",
   "metadata": {},
   "outputs": [],
   "source": [
    "from langchain.agents import Tool\n",
    "\n",
    "# You can create the tool to pass to an agent\n",
    "news_tools = Tool(\n",
    "    name=\"news-agent\",\n",
    "    description=\"Use this tool to get the latest news\",\n",
    "    func=search.run,\n",
    ")\n",
    "\n",
    "weather_tools = Tool(\n",
    "    name=\"weather-agent\",\n",
    "    description=\"Use this to answer weather related query\",\n",
    "    func=weather.run,\n",
    ")"
   ]
  },
  {
   "cell_type": "code",
   "execution_count": 42,
   "id": "b4eec17a-8b22-4e0e-9061-72975a31e116",
   "metadata": {},
   "outputs": [],
   "source": [
    "tools = [news_tools, weather_tools]"
   ]
  },
  {
   "cell_type": "code",
   "execution_count": 43,
   "id": "a0b5766e-083d-4842-905a-3b09d4e6f8a2",
   "metadata": {},
   "outputs": [],
   "source": [
    "\n",
    "llm = OpenAI(temperature=0)\n",
    "\n",
    "# tools = load_tools(news_tools, llm)\n",
    "\n",
    "agent_chain = initialize_agent(\n",
    "    tools=tools, \n",
    "    llm=llm, \n",
    "    agent=AgentType.ZERO_SHOT_REACT_DESCRIPTION, \n",
    "    verbose=True\n",
    ")"
   ]
  },
  {
   "cell_type": "code",
   "execution_count": 44,
   "id": "3915dfad-43b3-4133-901c-f24b90d52636",
   "metadata": {},
   "outputs": [
    {
     "name": "stdout",
     "output_type": "stream",
     "text": [
      "\n",
      "\n",
      "\u001b[1m> Entering new AgentExecutor chain...\u001b[0m\n",
      "\u001b[32;1m\u001b[1;3m I should use the news-agent tool to get the latest news\n",
      "Action: news-agent\n",
      "Action Input: \"michigan\"\u001b[0m\n",
      "Observation: \u001b[36;1m\u001b[1;3m[{'title': 'Michigan disqualifies presidential candidate Cornel West from November ballot', 'link': 'https://www.freep.com/story/news/politics/elections/2024/08/16/michigan-disqualifies-cornel-west-november-election/74832390007/', 'source': 'Detroit Free Press', 'date': '18 hours ago', 'thumbnail': 'https://encrypted-tbn0.gstatic.com/images?q=tbn:ANd9GcR5Whp8uMp8ME5-044Ka93zpihM3b37U-0hbYguEnWkOg7eivpUZK0e9JQ&usqp=CAI&s'}, {'title': 'There are 10 serene little lakes at this Northern Michigan state park', 'link': 'https://www.mlive.com/life/2024/08/there-are-10-serene-little-lakes-at-this-northern-michigan-state-park.html', 'source': 'MLive.com', 'date': '16 hours ago', 'thumbnail': 'https://encrypted-tbn0.gstatic.com/images?q=tbn:ANd9GcQ1Yp3ZdLYSuwCucfJHPKXVwLtIQHMrrk8RYr89brSc67-WRGw_gqO9z34&usqp=CAI&s'}, {'title': 'Witness Michigan Stadium’s new smorgasbord of food options this fall', 'link': 'https://www.mlive.com/news/ann-arbor/2024/08/witness-michigan-stadiums-new-smorgasbord-of-food-options-this-fall.html', 'source': 'MLive.com', 'date': '5 minutes ago', 'thumbnail': 'https://encrypted-tbn0.gstatic.com/images?q=tbn:ANd9GcSi5KTA4HKZOJhSPdwVV7ywJI8cFN7O9mxoxkAqKD43yWThv4Co85ajyWY&usqp=CAI&s'}, {'title': 'Pharmacist blamed for deaths in US meningitis outbreak will plead no contest in Michigan case', 'link': 'https://www.yahoo.com/news/pharmacist-blamed-deaths-us-meningitis-224736104.html', 'source': 'Yahoo', 'date': '16 hours ago', 'thumbnail': 'https://encrypted-tbn0.gstatic.com/images?q=tbn:ANd9GcRwhEBGF95_Fma2Q8V53QtOPIns4_dDT9dpc-soXbKYJTQV4AzzWgDb2Tg&usqp=CAI&s'}]\u001b[0m\n",
      "Thought:\u001b[32;1m\u001b[1;3m I now know the final answer\n",
      "Final Answer: The latest news about Michigan is a mix of political and lifestyle news, including the disqualification of a presidential candidate, a state park with 10 serene lakes, new food options at Michigan Stadium, and a pharmacist pleading no contest in a meningitis outbreak case.\u001b[0m\n",
      "\n",
      "\u001b[1m> Finished chain.\u001b[0m\n"
     ]
    },
    {
     "data": {
      "text/plain": [
       "{'input': 'Whats the latest news about michigan?',\n",
       " 'output': 'The latest news about Michigan is a mix of political and lifestyle news, including the disqualification of a presidential candidate, a state park with 10 serene lakes, new food options at Michigan Stadium, and a pharmacist pleading no contest in a meningitis outbreak case.'}"
      ]
     },
     "execution_count": 44,
     "metadata": {},
     "output_type": "execute_result"
    }
   ],
   "source": [
    "agent_chain('Whats the latest news about michigan?')"
   ]
  },
  {
   "cell_type": "code",
   "execution_count": 45,
   "id": "dbfa3b1c-0a6a-4924-a3e3-29dca8c39d36",
   "metadata": {},
   "outputs": [
    {
     "name": "stdout",
     "output_type": "stream",
     "text": [
      "\n",
      "\n",
      "\u001b[1m> Entering new AgentExecutor chain...\u001b[0m\n",
      "\u001b[32;1m\u001b[1;3m I should use the weather-agent tool to get the current weather\n",
      "Action: weather-agent\n",
      "Action Input: michigan\u001b[0m\n",
      "Observation: \u001b[33;1m\u001b[1;3mIn michigan, the current weather is as follows:\n",
      "Detailed status: overcast clouds\n",
      "Wind speed: 2.57 m/s, direction: 320°\n",
      "Humidity: 94%\n",
      "Temperature: \n",
      "  - Current: 20.04°C\n",
      "  - High: 20.04°C\n",
      "  - Low: 20.04°C\n",
      "  - Feels like: 20.55°C\n",
      "Rain: {}\n",
      "Heat index: None\n",
      "Cloud cover: 100%\u001b[0m\n",
      "Thought:\u001b[32;1m\u001b[1;3m I now know the final answer\n",
      "Final Answer: In michigan, the current weather is overcast with a temperature of 20.04°C and a humidity of 94%.\u001b[0m\n",
      "\n",
      "\u001b[1m> Finished chain.\u001b[0m\n"
     ]
    },
    {
     "data": {
      "text/plain": [
       "{'input': 'Whats is the current weather in michigan?',\n",
       " 'output': 'In michigan, the current weather is overcast with a temperature of 20.04°C and a humidity of 94%.'}"
      ]
     },
     "execution_count": 45,
     "metadata": {},
     "output_type": "execute_result"
    }
   ],
   "source": [
    "agent_chain('Whats is the current weather in michigan?')"
   ]
  },
  {
   "cell_type": "code",
   "execution_count": 49,
   "id": "20921588-b0be-43cf-b4cb-57ebdab7a389",
   "metadata": {},
   "outputs": [
    {
     "name": "stderr",
     "output_type": "stream",
     "text": [
      "/opt/anaconda3/envs/mytooth/lib/python3.10/site-packages/langchain_core/_api/deprecation.py:141: LangChainDeprecationWarning: The class `LLMChain` was deprecated in LangChain 0.1.17 and will be removed in 1.0. Use RunnableSequence, e.g., `prompt | llm` instead.\n",
      "  warn_deprecated(\n"
     ]
    }
   ],
   "source": [
    "from langchain.prompts import PromptTemplate\n",
    "from langchain.chains import LLMChain\n",
    "\n",
    "template = \"\"\"\n",
    "\n",
    "You are a cheerful and humarous AI assistant, you help people brighten up their mood and respond back to user query\n",
    "\n",
    "query = {query}\n",
    "\"\"\"\n",
    "\n",
    "prompt = PromptTemplate(\n",
    "    input_variables=['query'],\n",
    "    template=template\n",
    ")\n",
    "\n",
    "\n",
    "# Create Chain\n",
    "generic_llm_chain = LLMChain(\n",
    "    llm = llm,\n",
    "    prompt = prompt\n",
    ")\n",
    "\n",
    "# Create Tool\n",
    "generic_tool = Tool(\n",
    "    name = 'Generic QA',\n",
    "    description='Useful for general purpose question answer',\n",
    "    func = generic_llm_chain.run\n",
    "\n",
    ")\n"
   ]
  },
  {
   "cell_type": "code",
   "execution_count": 50,
   "id": "79b9af78-2c8d-4f2f-b105-f7e75762c822",
   "metadata": {},
   "outputs": [],
   "source": [
    "tools = [news_tools, weather_tools, generic_tool]"
   ]
  },
  {
   "cell_type": "code",
   "execution_count": 51,
   "id": "2799e291-020f-4033-a1e6-bb2be68526e4",
   "metadata": {},
   "outputs": [],
   "source": [
    "llm = OpenAI(temperature=0)\n",
    "\n",
    "# tools = load_tools(news_tools, llm)\n",
    "\n",
    "agent_chain = initialize_agent(\n",
    "    tools=tools, \n",
    "    llm=llm, \n",
    "    agent=AgentType.ZERO_SHOT_REACT_DESCRIPTION, \n",
    "    verbose=True\n",
    ")"
   ]
  },
  {
   "cell_type": "code",
   "execution_count": 52,
   "id": "076dd04e-f719-4bc0-ac2c-652dd606edac",
   "metadata": {},
   "outputs": [
    {
     "name": "stdout",
     "output_type": "stream",
     "text": [
      "\n",
      "\n",
      "\u001b[1m> Entering new AgentExecutor chain...\u001b[0m\n",
      "\u001b[32;1m\u001b[1;3m I should use Generic QA for this question since it is a general purpose question.\n",
      "Action: Generic QA\n",
      "Action Input: \"Can you tell me a joke?\"\u001b[0m\n",
      "Observation: \u001b[38;5;200m\u001b[1;3m\n",
      "Sure! Why couldn't the bicycle stand up by itself? Because it was two-tired!\u001b[0m\n",
      "Thought:\u001b[32;1m\u001b[1;3m I now know the final answer\n",
      "Final Answer: Sure! Why couldn't the bicycle stand up by itself? Because it was two-tired!\u001b[0m\n",
      "\n",
      "\u001b[1m> Finished chain.\u001b[0m\n"
     ]
    },
    {
     "data": {
      "text/plain": [
       "{'input': 'Can you tell me a joke?',\n",
       " 'output': \"Sure! Why couldn't the bicycle stand up by itself? Because it was two-tired!\"}"
      ]
     },
     "execution_count": 52,
     "metadata": {},
     "output_type": "execute_result"
    }
   ],
   "source": [
    "agent_chain('Can you tell me a joke?')"
   ]
  },
  {
   "cell_type": "code",
   "execution_count": 53,
   "id": "16ae4f81-5ca3-4f80-9831-3b7758d7268c",
   "metadata": {},
   "outputs": [
    {
     "name": "stdout",
     "output_type": "stream",
     "text": [
      "\n",
      "\n",
      "\u001b[1m> Entering new AgentExecutor chain...\u001b[0m\n",
      "\u001b[32;1m\u001b[1;3m I should use the news-agent tool to get the latest news.\n",
      "Action: news-agent\n",
      "Action Input: \"India\"\u001b[0m\n",
      "Observation: \u001b[36;1m\u001b[1;3m[{'title': 'Indian Kashmir to Hold Legislative Election for First Time in a Decade', 'link': 'https://www.nytimes.com/2024/08/16/world/asia/kashmir-election.html', 'source': 'The New York Times', 'date': '23 hours ago', 'thumbnail': 'https://serpapi.com/searches/66c0c6f50a545a0586a9f2bd/images/1e8734e4dd2c3046d0f854be7540bc552cd6f5a5192e352e.jpeg'}, {'title': \"Controversy erupts over Hindu temple float at New York's India Day parade\", 'link': 'https://www.reuters.com/world/controversy-erupts-over-hindu-temple-float-new-yorks-india-day-parade-2024-08-16/', 'source': 'Reuters', 'date': '18 hours ago', 'thumbnail': 'https://serpapi.com/searches/66c0c6f50a545a0586a9f2bd/images/1e8734e4dd2c30469a1b747bf04088dd708ef71899952df5.jpeg'}, {'title': 'Foxconn chief defends India hiring after report that it rejects married women', 'link': 'https://www.reuters.com/world/india/foxconn-chief-defends-hiring-practices-after-report-married-women-rejected-india-2024-08-17/', 'source': 'Reuters', 'date': '23 minutes ago', 'thumbnail': 'https://serpapi.com/searches/66c0c6f50a545a0586a9f2bd/images/1e8734e4dd2c3046515424e1d7625872e58e1195998cd477.jpeg'}, {'title': \"India: National strike held over doctor's rape and murder\", 'link': 'https://www.bbc.com/news/articles/c89wgzkdw1vo', 'source': 'BBC', 'date': '7 hours ago', 'thumbnail': 'https://serpapi.com/searches/66c0c6f50a545a0586a9f2bd/images/1e8734e4dd2c30465cd8529481b7b535317ebc8a3c9619ea.jpeg'}]\u001b[0m\n",
      "Thought:\u001b[32;1m\u001b[1;3m I now know the final answer.\n",
      "Final Answer: There are various events happening in India, including a legislative election in Kashmir, controversy over a Hindu temple float at a parade in New York, a defense of hiring practices by Foxconn's chief, and a national strike over a doctor's rape and murder.\u001b[0m\n",
      "\n",
      "\u001b[1m> Finished chain.\u001b[0m\n"
     ]
    },
    {
     "data": {
      "text/plain": [
       "{'input': 'What is happening in India?',\n",
       " 'output': \"There are various events happening in India, including a legislative election in Kashmir, controversy over a Hindu temple float at a parade in New York, a defense of hiring practices by Foxconn's chief, and a national strike over a doctor's rape and murder.\"}"
      ]
     },
     "execution_count": 53,
     "metadata": {},
     "output_type": "execute_result"
    }
   ],
   "source": [
    "agent_chain('What is happening in India?')"
   ]
  },
  {
   "cell_type": "code",
   "execution_count": null,
   "id": "a621b338-19c5-488e-b637-29789932f5d7",
   "metadata": {},
   "outputs": [],
   "source": []
  }
 ],
 "metadata": {
  "kernelspec": {
   "display_name": "mytooth",
   "language": "python",
   "name": "mytooth"
  },
  "language_info": {
   "codemirror_mode": {
    "name": "ipython",
    "version": 3
   },
   "file_extension": ".py",
   "mimetype": "text/x-python",
   "name": "python",
   "nbconvert_exporter": "python",
   "pygments_lexer": "ipython3",
   "version": "3.10.14"
  }
 },
 "nbformat": 4,
 "nbformat_minor": 5
}
