{
 "cells": [
  {
   "cell_type": "code",
   "execution_count": 1,
   "id": "2c586c7a-c4e9-4198-803a-2f111180c916",
   "metadata": {},
   "outputs": [],
   "source": [
    "!pip install --quiet openai langchain langchain_core langchain_openai"
   ]
  },
  {
   "cell_type": "code",
   "execution_count": 41,
   "id": "5a80e53a-4426-480b-86c6-7f1ebfd6eb68",
   "metadata": {},
   "outputs": [],
   "source": [
    "from langchain_core.prompts import PromptTemplate\n",
    "from langchain.chains import LLMChain\n",
    "from langchain_openai import AzureChatOpenAI\n",
    "from langchain_core.output_parsers import StrOutputParser\n",
    "import os\n",
    "import time"
   ]
  },
  {
   "cell_type": "code",
   "execution_count": 42,
   "id": "5856b693-23ae-4b57-b4e1-4ca490826036",
   "metadata": {},
   "outputs": [],
   "source": [
    "os.environ[\"OPENAI_API_TYPE\"] = \"azure_ad\"\n",
    "os.environ[\"OPENAI_API_VERSION\"] = \"2024-05-01-preview\"\n",
    "os.environ[\"AZURE_OPENAI_ENDPOINT\"] = \"\"\n",
    "os.environ[\"AZURE_OPENAI_API_KEY\"] = ''\n",
    "\n",
    "\n",
    "llm = AzureChatOpenAI(\n",
    "    azure_deployment=\"gpt-4o\",\n",
    "    temperature = 1,\n",
    ")"
   ]
  },
  {
   "cell_type": "code",
   "execution_count": 43,
   "id": "afe44013-bbbb-4ee8-b9c3-87331604824d",
   "metadata": {},
   "outputs": [],
   "source": [
    "# * Specify the make and model of the car, highlighting its distinctive features."
   ]
  },
  {
   "cell_type": "code",
   "execution_count": 44,
   "id": "fdb47a7b-bc2e-4c51-a7cb-3a4829c70b70",
   "metadata": {},
   "outputs": [],
   "source": [
    "template = \"\"\"\n",
    "    You are an expert prompt engineer. Your task is to generate detailed and vivid image prompts based on a client's specifications. The client will provide the description of the car theme, any attachments or accessories for the car, and the setting. Ensure the following:\n",
    "\n",
    "    Car Description:\n",
    "        * Highlight the car's distinctive features, such as its make and model, without directly naming it (e.g., instead of \"Toyota Corolla,\" describe it as \"a sleek compact sedan\").\n",
    "        * Describe the car’s design elements influenced by the client's specified theme, avoiding extra logos or animals.\n",
    "        * Elaborate on the theme, including colors, unique details, and how it is creatively integrated into the car’s design (e.g., custom paint jobs, themed decals, unique modifications).\n",
    "        * If the client specifies a theme based on a movie or well-known character, creatively redesign the theme to avoid direct references or copyrighted elements. For instance, instead of using \"Barbie,\" describe it as a \"glamorous pink and sparkly theme\" with relevant details. Instead of \"Ironman,\" use \"futuristic red and gold armored theme.\"\n",
    "        * Keep the tires natural and realistic, without adding unnecessary embellishments. They should look sturdy and functional, appropriate for the car's setting, but not overly stylized or fancy.\n",
    "    \n",
    "    Attachments:\n",
    "        * Incorporate any specified attachments to the car, such as a canoe, bike rack, or other accessories.\n",
    "        * Do not add any attachments to the car unless the client specifically mentions them.\n",
    "        * Ensure the attachments are seamlessly integrated into the car’s design.\n",
    "        * Position the specified attachments creatively and securely on top of the car, considering safety and stability (e.g., using visible harnesses, reinforced mounts, or other secure methods).\n",
    "        \n",
    "    Scene Setting:\n",
    "        * Include details of the environment or setting where the car is located, as specified by the client (e.g., a forest, city street, racing track).\n",
    "        * Ensure the car is not far away or blending into the background. The vehicle should be positioned in the foreground or midground, occupying a central place in the composition to draw the viewer's eye directly to it.\n",
    "        * Add elements that enhance the theme and overall realism, such as natural scenery or dynamic backgrounds.\n",
    "        * If the client specifies a theme related to racing, cleverly rephrase the theme to capture the essence without using sensitive words like \"racing,\" \"race,\" \"high speed,\" or anything related to competition or speed.\n",
    "        * Avoid terms that could trigger content violations. Instead, use creative descriptions like \"a streamlined vehicle designed for thrilling experiences\" or \"an environment filled with excitement and motion.\"\n",
    "\n",
    "    Realism and Uniqueness:\n",
    "        * Ensure there is only one car in the generated image prompt.\n",
    "        * Ensure the car is not far away or blending into the background. The vehicle should be positioned in the foreground or midground, occupying a central place in the composition to draw the viewer's eye directly to it.\n",
    "        * Make sure the car look realistic and the scene is believable.\n",
    "        * Make sure to not add any human \n",
    "        * Make sure to not add any frosting at the bottom of the car.\n",
    "\n",
    "    Compliance:\n",
    "        * Avoid using any offensive, sensitive, mature, or inappropriate language.\n",
    "        * Adapt descriptions to avoid terms or elements that could trigger policy violations, using creative and descriptive language instead.\n",
    "        * Ensure all generated prompts adhere to Azure OpenAI's image generation policy, avoiding prohibited content and ensuring ethical and responsible use.\n",
    "\n",
    "    Additional Compliance Instructions:\n",
    "\n",
    "        * Avoid direct references to copyrighted car, suv, characters, landmark or trademarks.\n",
    "        * Ensure that the generated prompt does not include elements that could cause content policy violations, such as offensive or inappropriate imagery.\n",
    "        * Be creative in describing themes to avoid potential violations while maintaining the client's vision.\n",
    "        * Use correct spacing and capitalization for car names to avoid issues, such as \"Range Rover\" instead of \"rangerover\".\n",
    "        * Use simple, kid-friendly language and avoid any terms that are not safe for kids. Ensure the prompt is clear and easy to understand.\n",
    "\n",
    "    Output Instructions:\n",
    "\n",
    "        * Generate the image prompt with a balance of detail and clarity, ensuring it is vivid, imaginative, and realistic.\n",
    "        * Base the generated prompts on the client’s imagination and descriptions.\n",
    "        * Each prompt you create should be clear, specific, and richly detailed to ensure the generated images meet or exceed client expectations.\n",
    "        * Always start the output with the string \"prompt:\" followed by the generated image prompt.\n",
    "\n",
    "    client_need = {query}\n",
    "    Prompt: \n",
    "\n",
    "    For example:\n",
    "\n",
    "    client_need: Reimagine a Range Rover suited for an epic desert adventure. Equip it with a quad bike securely fastened on top in a creative and safe manner and make the scene dynamic and exciting.\n",
    "    \n",
    "    Prompt: \"A spectacular image of a Range Rover transformed for an exhilarating desert adventure. The car features a rugged, sandstorm-ready aesthetic with a matte desert tan paint job and intricate patterns of swirling sands and cacti. The Range Rover’s sturdy tires are adapted for off-road performance, complete with reinforced wheel arches. Atop the vehicle, a powerful quad bike is securely fastened with a creative and robust mounting system, ensuring safety and stability. The securing method includes reinforced mounts and visible, stylish clamps, seamlessly integrated into the design. The scene is set against an expansive desert backdrop, where towering dunes meet a vibrant sunset sky. The atmosphere is alive with a sense of adventure, the wind shaping the sands in dynamic waves. There is only one car in this vivid, realistic depiction, perfectly poised for a thrilling journey.\"\n",
    "\n",
    "\n",
    "\"\"\""
   ]
  },
  {
   "cell_type": "code",
   "execution_count": 45,
   "id": "63dc12f6-4922-45f1-aa3c-1285d10fcb3c",
   "metadata": {},
   "outputs": [],
   "source": [
    "prompt = PromptTemplate(\n",
    "    input_variables = ['query'],\n",
    "    template = template,\n",
    "    output_parser=StrOutputParser()\n",
    ")"
   ]
  },
  {
   "cell_type": "code",
   "execution_count": 46,
   "id": "1f371844-765c-40b4-9b64-6d45bd115821",
   "metadata": {},
   "outputs": [],
   "source": [
    "chain = LLMChain(\n",
    "    llm = llm,\n",
    "    prompt = prompt\n",
    ")"
   ]
  },
  {
   "cell_type": "code",
   "execution_count": 47,
   "id": "6878ca05-f546-4181-9975-e7160d31b5a5",
   "metadata": {},
   "outputs": [],
   "source": [
    "query = \"Imagine my mini cooper in barbie theme standing on the racing track \" "
   ]
  },
  {
   "cell_type": "code",
   "execution_count": 48,
   "id": "5baf8aba-2b94-4918-a035-1d0a7938db6b",
   "metadata": {},
   "outputs": [
    {
     "name": "stdout",
     "output_type": "stream",
     "text": [
      "--- 4.6229469776153564 seconds ---\n"
     ]
    }
   ],
   "source": [
    "start_time = time.time()\n",
    "\n",
    "response = chain.run(query)\n",
    "\n",
    "end_time = time.time()\n",
    "print(\"--- %s seconds ---\" % (end_time - start_time))"
   ]
  },
  {
   "cell_type": "code",
   "execution_count": 49,
   "id": "523c26d7-38af-46d3-82c0-dba3de093d89",
   "metadata": {},
   "outputs": [
    {
     "data": {
      "text/plain": [
       "'client_need: Imagine my mini cooper in barbie theme standing on the racing track\\n\\nPrompt: \"A captivating visual of a sleek compact sedan, meticulously redesigned with a glamorous pink and sparkly theme reminiscent of a beloved doll-inspired aesthetic. The car\\'s body flaunts a vibrant, glossy bubblegum pink finish, adorned with shimmering glitter accents that catch the light beautifully. Subtle yet charming custom decals include swirling patterns of hearts and glimmering stars along the sides, merging elegance with whimsy. Its futuristic headlights feature a soft pink hue that enhances the overall theme without compromising functionality. The roof is gracefully highlighted with a gentle shade of lavender, creating a delightful contrast. The wheels are practical and sturdy, painted white to complement the car’s dazzling design.\\n\\nThe vehicle stands prominently on a dynamic racing track, designed for thrilling experiences without using competitive elements. The track is intricately detailed with smooth, winding lanes, bordered by bright pastel-colored guardrails that echo the car’s vibrant theme. In the background, a picturesque sky at dawn breaks with soft hues of pink and purple, adding to the enchantment. The environment is filled with an aura of excitement and motion, with subtle hints of action such as slightly blurred flags on poles, flapping gently in a mild breeze. Despite the lively setting, the mini cooper remains the focal point, positioned centrally and bathed in natural light, emphasizing its unique, glamorous transformation.\"'"
      ]
     },
     "execution_count": 49,
     "metadata": {},
     "output_type": "execute_result"
    }
   ],
   "source": [
    "response"
   ]
  },
  {
   "cell_type": "code",
   "execution_count": 50,
   "id": "cfbbd20c-4c96-454d-a1d7-5ab1f6280a97",
   "metadata": {},
   "outputs": [
    {
     "name": "stdout",
     "output_type": "stream",
     "text": [
      "\"A captivating visual of a sleek compact sedan, meticulously redesigned with a glamorous pink and sparkly theme reminiscent of a beloved doll-inspired aesthetic. The car's body flaunts a vibrant, glossy bubblegum pink finish, adorned with shimmering glitter accents that catch the light beautifully. Subtle yet charming custom decals include swirling patterns of hearts and glimmering stars along the sides, merging elegance with whimsy. Its futuristic headlights feature a soft pink hue that enhances the overall theme without compromising functionality. The roof is gracefully highlighted with a gentle shade of lavender, creating a delightful contrast. The wheels are practical and sturdy, painted white to complement the car’s dazzling design.\n",
      "\n",
      "The vehicle stands prominently on a dynamic racing track, designed for thrilling experiences without using competitive elements. The track is intricately detailed with smooth, winding lanes, bordered by bright pastel-colored guardrails that echo the car’s vibrant theme. In the background, a picturesque sky at dawn breaks with soft hues of pink and purple, adding to the enchantment. The environment is filled with an aura of excitement and motion, with subtle hints of action such as slightly blurred flags on poles, flapping gently in a mild breeze. Despite the lively setting, the mini cooper remains the focal point, positioned centrally and bathed in natural light, emphasizing its unique, glamorous transformation.\"\n"
     ]
    }
   ],
   "source": [
    "# Find the index of \"Prompt:\" or \"prompt:\" (case insensitive)\n",
    "index1 = response.lower().find(\"prompt:\")\n",
    "index2 = response.lower().find(\"Prompt:\")\n",
    "\n",
    "# Choose the valid index\n",
    "start_index = index1 if index1 != -1 else index2\n",
    "\n",
    "if start_index != -1:\n",
    "    # Extract the prompt part\n",
    "    prompt = response[start_index + len(\"Prompt:\"):].strip()\n",
    "    print(prompt)\n",
    "else:\n",
    "    print(\"Prompt not found in the response.\")"
   ]
  },
  {
   "cell_type": "code",
   "execution_count": null,
   "id": "7d445df2-1699-451d-8ace-45adc1dbcae5",
   "metadata": {},
   "outputs": [],
   "source": []
  },
  {
   "cell_type": "code",
   "execution_count": null,
   "id": "165392ce-e07d-4bec-9e4f-2081fa4eaa2b",
   "metadata": {},
   "outputs": [],
   "source": []
  },
  {
   "cell_type": "code",
   "execution_count": null,
   "id": "14e4367c-3578-4b0d-b434-564993499d19",
   "metadata": {},
   "outputs": [],
   "source": []
  },
  {
   "cell_type": "code",
   "execution_count": null,
   "id": "1c2493c9-c2b5-4c77-90ad-f08f0cb55ae2",
   "metadata": {},
   "outputs": [],
   "source": []
  }
 ],
 "metadata": {
  "kernelspec": {
   "display_name": "visualize",
   "language": "python",
   "name": "visualize"
  },
  "language_info": {
   "codemirror_mode": {
    "name": "ipython",
    "version": 3
   },
   "file_extension": ".py",
   "mimetype": "text/x-python",
   "name": "python",
   "nbconvert_exporter": "python",
   "pygments_lexer": "ipython3",
   "version": "3.10.14"
  }
 },
 "nbformat": 4,
 "nbformat_minor": 5
}
