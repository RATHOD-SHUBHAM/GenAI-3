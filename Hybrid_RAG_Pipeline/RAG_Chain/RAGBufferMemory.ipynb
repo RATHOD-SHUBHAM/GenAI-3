{
 "cells": [
  {
   "cell_type": "code",
   "execution_count": 1,
   "id": "90a206bc-c694-47a0-9be6-65f3dc72f447",
   "metadata": {},
   "outputs": [],
   "source": [
    "!pip install -qU langchain langchain_community langchain_chroma langchainhub pypdf langchain-ollama langchain-text-splitters"
   ]
  },
  {
   "cell_type": "code",
   "execution_count": 13,
   "id": "b8981609-491d-420d-ba79-3fa2bca37a16",
   "metadata": {},
   "outputs": [
    {
     "name": "stdout",
     "output_type": "stream",
     "text": [
      "/Users/shubhamrathod/PycharmProjects/RAG_Pipeline/RAG_Chain\n",
      "/Users/shubhamrathod/PycharmProjects/RAG_Pipeline\n"
     ]
    }
   ],
   "source": [
    "import os\n",
    "HOME = os.getcwd()\n",
    "print(HOME)\n",
    "\n",
    "ROOT = os.path.dirname(HOME)\n",
    "print(ROOT)"
   ]
  },
  {
   "cell_type": "markdown",
   "id": "17b84630-7b78-4ac2-bc9b-669d0a9a28d4",
   "metadata": {},
   "source": [
    "# Load the Document"
   ]
  },
  {
   "cell_type": "code",
   "execution_count": 14,
   "id": "98227cb2-7f38-4595-ae47-ef51aa806040",
   "metadata": {},
   "outputs": [],
   "source": [
    "from langchain_community.document_loaders import PyPDFLoader\n",
    "\n",
    "file_path = f'{HOME}/CC.pdf'\n",
    "loader = PyPDFLoader(file_path = file_path)\n",
    "\n",
    "pages = loader.load()"
   ]
  },
  {
   "cell_type": "code",
   "execution_count": 15,
   "id": "fbbfe688-c5b0-4265-bca2-126feb77faf8",
   "metadata": {},
   "outputs": [
    {
     "data": {
      "text/plain": [
       "5"
      ]
     },
     "execution_count": 15,
     "metadata": {},
     "output_type": "execute_result"
    }
   ],
   "source": [
    "len(pages)"
   ]
  },
  {
   "cell_type": "code",
   "execution_count": null,
   "id": "48d5a133-1a54-4a6c-90dc-4122b1ab08de",
   "metadata": {},
   "outputs": [],
   "source": []
  },
  {
   "cell_type": "markdown",
   "id": "3385ea6f-3bb1-4d46-b44d-e7828cb81f7a",
   "metadata": {},
   "source": [
    "# Split the Document"
   ]
  },
  {
   "cell_type": "code",
   "execution_count": 16,
   "id": "2e3eb4db-de60-4d3a-8252-c4ba79eceb6b",
   "metadata": {},
   "outputs": [],
   "source": [
    "from langchain_text_splitters import RecursiveCharacterTextSplitter"
   ]
  },
  {
   "cell_type": "code",
   "execution_count": 17,
   "id": "ee355765-3edd-4392-bdd6-cc000e407115",
   "metadata": {},
   "outputs": [],
   "source": [
    "text_splitter = RecursiveCharacterTextSplitter(\n",
    "    # Set a really small chunk size, just to show.\n",
    "    chunk_size=8000,\n",
    "    chunk_overlap=3000,\n",
    "    length_function=len,\n",
    "    is_separator_regex=False,\n",
    ")"
   ]
  },
  {
   "cell_type": "code",
   "execution_count": 18,
   "id": "f701e97e-0659-49be-a9a0-1b0ce47dab10",
   "metadata": {},
   "outputs": [],
   "source": [
    "docs = text_splitter.split_documents(pages)"
   ]
  },
  {
   "cell_type": "code",
   "execution_count": 19,
   "id": "32515a1c-120e-4c53-877f-c127ac8073da",
   "metadata": {},
   "outputs": [
    {
     "data": {
      "text/plain": [
       "5"
      ]
     },
     "execution_count": 19,
     "metadata": {},
     "output_type": "execute_result"
    }
   ],
   "source": [
    "len(docs)"
   ]
  },
  {
   "cell_type": "code",
   "execution_count": null,
   "id": "13a9d2f5-ab95-4abe-9f56-e7b4155f8ed9",
   "metadata": {},
   "outputs": [],
   "source": []
  },
  {
   "cell_type": "markdown",
   "id": "87e447d9-44b4-4f8e-b757-da70344fae6c",
   "metadata": {},
   "source": [
    "# Embedding Model"
   ]
  },
  {
   "cell_type": "code",
   "execution_count": 20,
   "id": "1f6d119f-7a23-4581-9708-a890deb890e4",
   "metadata": {},
   "outputs": [],
   "source": [
    "from langchain_ollama import OllamaEmbeddings\n",
    "\n",
    "embeddings = OllamaEmbeddings(model=\"mxbai-embed-large:latest\")"
   ]
  },
  {
   "cell_type": "code",
   "execution_count": null,
   "id": "35ca626c-8c3f-4082-949b-eb0a6e7843d0",
   "metadata": {},
   "outputs": [],
   "source": []
  },
  {
   "cell_type": "markdown",
   "id": "b600b0a8-381e-404c-b1a0-8b93dd4ada79",
   "metadata": {},
   "source": [
    "# Create Index"
   ]
  },
  {
   "cell_type": "code",
   "execution_count": 21,
   "id": "9cdcde9e-7766-4dae-8bfc-96d7bcd408cb",
   "metadata": {},
   "outputs": [],
   "source": [
    "from langchain_chroma import Chroma"
   ]
  },
  {
   "cell_type": "code",
   "execution_count": 22,
   "id": "c87789d4-c0c2-419d-a3f6-384a352cd99d",
   "metadata": {},
   "outputs": [],
   "source": [
    "persist_directory = f'{HOME}/chroma_db'\n",
    "\n",
    "if os.path.isdir(persist_directory):\n",
    "    # Load from disk\n",
    "    index = Chroma(persist_directory = persist_directory, embedding_function = embeddings)\n",
    "else:\n",
    "    # Save to disk    \n",
    "    index = Chroma.from_documents(documents = docs, embedding = embeddings, persist_directory = persist_directory)"
   ]
  },
  {
   "cell_type": "code",
   "execution_count": 23,
   "id": "d1be2ecb-3028-45d4-8892-2aad2a5022c1",
   "metadata": {},
   "outputs": [
    {
     "name": "stdout",
     "output_type": "stream",
     "text": [
      "[Document(metadata={'page': 1, 'source': '/Users/shubhamrathod/PycharmProjects/RAG_Pipeline/RAG_Chain/CC.pdf'}, page_content='CALL CENTER CONVERSERTION SCRIPT 2a  \\n \\nAgent:           Thank you for calling ABC Company. My name is Ashley. How may I  \\nhelp you today?  \\nCustomer:     I am calling because I received a wrong bill. I just paid my phone bill \\ntwo days ago and my                    payment is not reflected in the bill.  \\nAgent:            Sorry for the inconvenience madam. May I have your Account  \\nNumber, please.  \\nCustomer:     5340036548  \\nAgent:            For verification purposes mam, Can I get your name and birthdate?, \\nplease.  \\nCustomer:     5340036548  \\nAgent:            For verification purposes mam, Can I get your name and birthdate?  \\nCustomer:     Maegan Simpson, July 23, 1974 and the account is under my name.  \\nAgent:            Thank you for that information mam. Per our system’s data, you did \\npay your last bill last Aug. 12 which was two days ago in one of our \\naffiliated payment centers and you c urrently have 0 balance. However, \\nthe bill that you received was generated a week before you made the \\npayment that’s why your latest payment had not been reflected. You can \\nsimply disregard the amount indicated  in the bill and continue enjoying \\nour servic es. \\nCustomer:     Thank you.  \\nAgent:           Delays in the bill is usually caused by delays in our courier services. \\nFor a more up dated bill of your account, you can visit our website and \\nlog in to your account. This bill is more updated.  \\nCustomer:     O k I will.  \\nAgent:            Will there be anything else that you need madam?  \\nCustomer:     No thanks.  \\nAgent:     Thank you for calling. We are glad to assist you.  \\nCustomer: Ok bye.'), Document(metadata={'page': 2, 'source': '/Users/shubhamrathod/PycharmProjects/RAG_Pipeline/RAG_Chain/CC.pdf'}, page_content='Sample Call Center Script: Technical Support Hotline  \\nEmily  \\nGood afternoon. TBH Network Solutions.  \\nFred  \\nYeah, hi. My system is down and I need \\nto speak with a technician.  \\nEmily  \\nOh, okay. Let me gather some \\ninformation and see if we can help. What \\nis your first name?  \\nFred  \\nFred.  \\nEmily  \\n And your last nam e; would you spell it \\nfor me please? Fred Sure. It’s C -H-A-M-B-\\nE-R-S, Chambers.  \\nEmily  \\nOkay. And your company name?  \\nFred  \\nI’m with GoldStar Environmental.  \\nEmily  \\nGoldStar Environmental?  \\nFred  \\nYes ma’am.  \\nEmily  \\nOkay. And your callback number?  \\nFred  \\n610-265-1715.  \\nEmily  \\nThat’s 610 -265-1715?  \\nFred  \\nYes.  \\nEmily  \\nOkay. And what seems to be the problem \\ntoday?  Fred  \\nMy agents aren’t able to make or receive \\nany telephone calls.  \\nEmily  \\nOkay and what type of system do you \\nhave. Fred I have AmStar700, I think. \\nEmily Okay. Are you able to log on to the \\nsystem?  \\nFred  \\nNo, actually, I can’t even get an Internet \\nconnection.  \\nEmily  \\nOkay. According to my records, the \\nAmStar700 is a voiceover Internet \\nprotocol phone. It appears that because \\nyour Internet isn’t working,  your phones \\nare not working as well. Do you know \\nwho your Internet provider is?  \\nFred  \\nI have Verizon.  \\nEmily  \\nOkay. Mr. Chambers, I’m going to get a \\nhold of Randy, and have him return your \\ncall. Is the 610 -265-1715 a good number \\nto reach you at right now ? \\n Fred  \\nYeah that’s my cell. That is working.  \\nEmily  \\nOkay, great. In the meantime, see if you \\ncan reach out to Verizon and let them \\nknow your issue. And Randy should be \\ncalling you back shortly.  \\nFred  \\n Thank you very much for your help.  \\nEmily  \\nYou’re we lcome. Thank you. Goodbye. \\nFred Take care. Goodbye.'), Document(metadata={'page': 0, 'source': '/Users/shubhamrathod/PycharmProjects/RAG_Pipeline/RAG_Chain/CC.pdf'}, page_content=\"CALL CENTER MOCK CALLS SCRIPT SAMPLE - CUSTOMER SERVICE  \\n \\n \\nSituation:  A customer is calling about her account balance.  \\nCustomer's Profile:  Female, Age is 25 -30yrs old, calm.  \\nGoal:  Answer customers inquiry in a timely manner . \\n \\nAgent:  It's a good day today at Bank of Wealth, my name is Heather,  How can I help you?  \\nCustomer:  I would like to know  my remaining money in my account.  \\nAgent:  I'll be glad to help you. May I please get your Bank Account number and the Name \\non the Account?  \\nCustomer:  Sure, it's Tracy  Q. Randall, account number is 805 -7845 -3895 -061 \\nAgent:  Thank you, let me just check on it. Ok, can you please, verify the last four numbers \\nof your social security ID?  \\nCustomer:  It is ****.  \\nAgent:  You still have 84 thousand and 65 cents. Is there anything  else that I could assist \\nyou with?  \\nCustomer:  Yes, If I transfer it to my bank account in Lloyds of London, how long will it \\ntake?  \\nAgent:  If we do the transaction over the phone or online, our team will still contact you for \\nverification prior sending your  money to a different bank. The whole process usually just \\ntakes 2 -3 days.  \\nCustomer:  Oh, I see, never mind, I'll just do it after the holidays. Thanks for your help, \\nHeather!  \\nAgent:  You are very much welcome, Ms. Randall! You have a great day and Thank you  for \\ncalling Bank of Wealth. Good Bye!  \\n \\n \\n \\nCALL CENTER MOCK CALLS SCRIPT SAMPLE - SALES  \\n \\nSituation:  A customer is calling in to order a Pizza.  \\nCustomer's Profile:  Male, Age is 45 yrs old, in a hurry  \\nGoal:  Place the order and offer the customer to upgrade their orders.  \\n \\nAgent:  This is Mike of Pizza Loco, what is your name and what would you like to order?!  \\nCustomer:  This is John Perez, I want One Family size of Pepperoni and 2 Regular \\nSupreme.  \\nAgent:  Thank you, so, that is One Pepperoni Family size, and Two  Regular Supreme \\nPizza's. Is that right?  \\nCustomer:  Yep, deliver it at 745 Farmers Road, Modesto, California...  \\nAgent:  Got it, would you like to add extra  mozzarella  cheese on top, that's just 5 bucks \\neach.  \\nCustomer:  Sure, I'll just pay it in cash once it's  delivered.  \\nAgent:  Alright, it's gonna be right in front of your door, within 30mins. Thanks for calling, \\nPizza Loco! Have a great night!\"), Document(metadata={'page': 4, 'source': '/Users/shubhamrathod/PycharmProjects/RAG_Pipeline/RAG_Chain/CC.pdf'}, page_content='http://www.academia.edu/4213494/CALL_CENTER_CONVERSERTION_SCRIPT_2a')]\n"
     ]
    }
   ],
   "source": [
    "docs = index.similarity_search('Who is emily')\n",
    "print(docs)"
   ]
  },
  {
   "cell_type": "code",
   "execution_count": null,
   "id": "ee0cfd64-4458-4f1f-86aa-c421dd0d5780",
   "metadata": {},
   "outputs": [],
   "source": []
  },
  {
   "cell_type": "markdown",
   "id": "a6146330-608b-4d60-b494-a29e875f4802",
   "metadata": {},
   "source": [
    "# Create Retriever"
   ]
  },
  {
   "cell_type": "code",
   "execution_count": 24,
   "id": "0bb327b9-3b9c-4378-94dc-7991742b0a37",
   "metadata": {},
   "outputs": [],
   "source": [
    "retriever = index.as_retriever()"
   ]
  },
  {
   "cell_type": "code",
   "execution_count": 25,
   "id": "d7c18af7-d158-4bd0-8470-ee90eb07eb34",
   "metadata": {},
   "outputs": [],
   "source": [
    "# retriever=vectorstore.as_retriever(search_kwargs={\"k\": 2})"
   ]
  },
  {
   "cell_type": "code",
   "execution_count": null,
   "id": "b4b50229-26f4-4c0e-92ec-bc7f6745da09",
   "metadata": {},
   "outputs": [],
   "source": []
  },
  {
   "cell_type": "markdown",
   "id": "130e71fc-8305-4605-84f6-a08a617056af",
   "metadata": {},
   "source": [
    "# Prompt Template"
   ]
  },
  {
   "cell_type": "code",
   "execution_count": 26,
   "id": "d9c2eb03-3b10-44a8-9211-fc500dedd624",
   "metadata": {},
   "outputs": [],
   "source": [
    "from langchain.memory import ConversationBufferMemory\n",
    "from langchain.chains import ConversationChain\n",
    "from langchain_core.prompts import PromptTemplate\n",
    "from langchain_core.output_parsers import StrOutputParser\n",
    "from langchain_core.runnables import RunnablePassthrough"
   ]
  },
  {
   "cell_type": "code",
   "execution_count": 27,
   "id": "5359b11d-dee5-4e14-8219-6b3e6feb92af",
   "metadata": {},
   "outputs": [],
   "source": [
    "memory = ConversationBufferMemory(memory_key=\"chat_history\", return_messages=True)"
   ]
  },
  {
   "cell_type": "code",
   "execution_count": 35,
   "id": "a6333ed1-3119-4c88-b913-d3853b3d7a18",
   "metadata": {},
   "outputs": [],
   "source": [
    "template = \"\"\"\n",
    "\n",
    "    You are an assistant for question-answering tasks. Use the following pieces of retrieved context and chat history to answer the question. If you don't know the answer, just say that you don't know. Use three sentences maximum and keep the answer concise.\n",
    "\n",
    "    Chat History: {chat_history}\n",
    "    \n",
    "    Context: {context}\n",
    "\n",
    "    Question: {question} \n",
    "    \n",
    "    Answer:\n",
    "\n",
    "\"\"\""
   ]
  },
  {
   "cell_type": "code",
   "execution_count": 36,
   "id": "ad785041-02f4-41e6-a1a7-fe74587855d8",
   "metadata": {},
   "outputs": [],
   "source": [
    "prompt = PromptTemplate(\n",
    "    input_variables=[\"history\",\"question\"],\n",
    "    template=template\n",
    ")"
   ]
  },
  {
   "cell_type": "code",
   "execution_count": null,
   "id": "77429abc-088e-4636-b921-aa471eed79d2",
   "metadata": {},
   "outputs": [],
   "source": []
  },
  {
   "cell_type": "code",
   "execution_count": null,
   "id": "5dc4ba5a-1473-4b9a-b038-a97a2ea36647",
   "metadata": {},
   "outputs": [],
   "source": []
  },
  {
   "cell_type": "markdown",
   "id": "5c4a121d-128c-48b8-a645-b640058aae68",
   "metadata": {},
   "source": [
    "# LLM"
   ]
  },
  {
   "cell_type": "code",
   "execution_count": 37,
   "id": "62443f56-b7b0-4bf9-aff9-ff15cfd60c5f",
   "metadata": {},
   "outputs": [],
   "source": [
    "from langchain_ollama import ChatOllama\n",
    "\n",
    "llm = ChatOllama(\n",
    "    model=\"llama3.1:latest\",\n",
    "    temperature=0,\n",
    ")"
   ]
  },
  {
   "cell_type": "code",
   "execution_count": null,
   "id": "f887fb73-026c-4064-ace2-194ddcf57f8a",
   "metadata": {},
   "outputs": [],
   "source": []
  },
  {
   "cell_type": "markdown",
   "id": "f6624536-b3f7-449b-8c16-7e93f5c5c8ce",
   "metadata": {},
   "source": [
    "# Run Chain"
   ]
  },
  {
   "cell_type": "code",
   "execution_count": 38,
   "id": "b6398018-5c9d-4adf-bee3-d4c609418725",
   "metadata": {},
   "outputs": [],
   "source": [
    "from langchain.chains import ConversationalRetrievalChain"
   ]
  },
  {
   "cell_type": "code",
   "execution_count": 39,
   "id": "f89b2709-6ec4-4554-8517-34a385917546",
   "metadata": {},
   "outputs": [],
   "source": [
    "chain = ConversationalRetrievalChain.from_llm(\n",
    "    llm=llm,\n",
    "    chain_type=\"stuff\",\n",
    "    retriever=retriever, \n",
    "    memory=memory,\n",
    "    combine_docs_chain_kwargs={\"prompt\": prompt},\n",
    "    output_key='answer',\n",
    "    # return_source_documents=True,\n",
    "    verbose = False   \n",
    ")"
   ]
  },
  {
   "cell_type": "code",
   "execution_count": 45,
   "id": "bd89d174-d438-44d5-82a3-20cab3f198f9",
   "metadata": {},
   "outputs": [
    {
     "name": "stdout",
     "output_type": "stream",
     "text": [
      "{'question': 'Which Bank did Tracy go to?', 'chat_history': [HumanMessage(content='Which Bank did Tracy go to?'), AIMessage(content='Tracy Q. Randall went to the Bank of Wealth.')], 'answer': 'Tracy Q. Randall went to the Bank of Wealth.'}\n"
     ]
    }
   ],
   "source": [
    "result = chain.invoke({'question' : \"Which Bank did Tracy go to?\"})\n",
    "print(result)"
   ]
  },
  {
   "cell_type": "code",
   "execution_count": 46,
   "id": "81603441-7937-492e-b904-cefa2d8308ae",
   "metadata": {},
   "outputs": [
    {
     "name": "stdout",
     "output_type": "stream",
     "text": [
      "{'question': 'What is Tracys accout number?', 'chat_history': [HumanMessage(content='Which Bank did Tracy go to?'), AIMessage(content='Tracy Q. Randall went to the Bank of Wealth.'), HumanMessage(content='What is Tracys accout number?'), AIMessage(content=\"Tracy Q. Randall's account number is 805-7845-3895-061.\")], 'answer': \"Tracy Q. Randall's account number is 805-7845-3895-061.\"}\n"
     ]
    }
   ],
   "source": [
    "result = chain.invoke({'question' : \"What is Tracys accout number?\"})\n",
    "print(result)"
   ]
  },
  {
   "cell_type": "code",
   "execution_count": 47,
   "id": "e63a05cb-e2d4-41b6-a704-1c81104ab5eb",
   "metadata": {},
   "outputs": [
    {
     "name": "stdout",
     "output_type": "stream",
     "text": [
      "{'question': 'How much balance does she have in her account?', 'chat_history': [HumanMessage(content='Which Bank did Tracy go to?'), AIMessage(content='Tracy Q. Randall went to the Bank of Wealth.'), HumanMessage(content='What is Tracys accout number?'), AIMessage(content=\"Tracy Q. Randall's account number is 805-7845-3895-061.\"), HumanMessage(content='How much balance does she have in her account?'), AIMessage(content='Tracy Q. Randall has a current balance of $84,065.00 in her Bank of Wealth account.')], 'answer': 'Tracy Q. Randall has a current balance of $84,065.00 in her Bank of Wealth account.'}\n"
     ]
    }
   ],
   "source": [
    "result = chain.invoke({'question' : \"How much balance does she have in her account?\"})\n",
    "print(result)"
   ]
  },
  {
   "cell_type": "code",
   "execution_count": 48,
   "id": "89a2a9d4-ba0c-4199-871e-7791c4fd0bba",
   "metadata": {},
   "outputs": [
    {
     "name": "stdout",
     "output_type": "stream",
     "text": [
      "{'question': 'Whos account number was asked previously?', 'chat_history': [HumanMessage(content='Which Bank did Tracy go to?'), AIMessage(content='Tracy Q. Randall went to the Bank of Wealth.'), HumanMessage(content='What is Tracys accout number?'), AIMessage(content=\"Tracy Q. Randall's account number is 805-7845-3895-061.\"), HumanMessage(content='How much balance does she have in her account?'), AIMessage(content='Tracy Q. Randall has a current balance of $84,065.00 in her Bank of Wealth account.'), HumanMessage(content='Whos account number was asked previously?'), AIMessage(content=\"Tracy Q. Randall's account number, 805-7845-3895-061, was asked by the agent to verify the customer's identity and access their account information.\")], 'answer': \"Tracy Q. Randall's account number, 805-7845-3895-061, was asked by the agent to verify the customer's identity and access their account information.\"}\n"
     ]
    }
   ],
   "source": [
    "result = chain.invoke({'question' : \"Whos account number was asked previously?\"})\n",
    "print(result)"
   ]
  },
  {
   "cell_type": "code",
   "execution_count": 44,
   "id": "dca6ab0c-d5e9-423d-940a-5893620a71fd",
   "metadata": {},
   "outputs": [],
   "source": [
    "memory.clear()"
   ]
  },
  {
   "cell_type": "code",
   "execution_count": null,
   "id": "d5c67195-1279-4132-be34-91be9ceccf51",
   "metadata": {},
   "outputs": [],
   "source": []
  }
 ],
 "metadata": {
  "kernelspec": {
   "display_name": "myrag",
   "language": "python",
   "name": "myrag"
  },
  "language_info": {
   "codemirror_mode": {
    "name": "ipython",
    "version": 3
   },
   "file_extension": ".py",
   "mimetype": "text/x-python",
   "name": "python",
   "nbconvert_exporter": "python",
   "pygments_lexer": "ipython3",
   "version": "3.10.14"
  }
 },
 "nbformat": 4,
 "nbformat_minor": 5
}
